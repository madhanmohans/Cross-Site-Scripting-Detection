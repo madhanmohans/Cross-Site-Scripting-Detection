{
  "cells": [
    {
      "cell_type": "markdown",
      "metadata": {
        "id": "view-in-github",
        "colab_type": "text"
      },
      "source": [
        "<a href=\"https://colab.research.google.com/github/madhanmohans/Cross-Site-Scripting-Detection/blob/main/XSS_detection_%7C_Phase_1_work.ipynb\" target=\"_parent\"><img src=\"https://colab.research.google.com/assets/colab-badge.svg\" alt=\"Open In Colab\"/></a>"
      ]
    },
    {
      "cell_type": "code",
      "execution_count": null,
      "metadata": {
        "id": "OeN8EWygrlTx"
      },
      "outputs": [],
      "source": [
        "import io\n",
        "import sklearn\n",
        "import numpy as np\n",
        "import pandas as pd\n",
        "import seaborn as sns\n",
        "from sklearn.svm import SVC\n",
        "import matplotlib.pyplot as plt\n",
        "from sklearn import preprocessing\n",
        "from sklearn import model_selection\n",
        "from sklearn.naive_bayes import GaussianNB\n",
        "from sklearn.tree import DecisionTreeClassifier\n",
        "from sklearn.neighbors import KNeighborsClassifier\n",
        "from sklearn.linear_model import LogisticRegression\n",
        "from sklearn.discriminant_analysis import LinearDiscriminantAnalysis  "
      ]
    },
    {
      "cell_type": "code",
      "execution_count": null,
      "metadata": {
        "colab": {
          "base_uri": "https://localhost:8080/"
        },
        "id": "i1_d1DKrteGK",
        "outputId": "ca025e17-9e4e-4f17-f79c-403f512aa4de"
      },
      "outputs": [
        {
          "output_type": "stream",
          "name": "stderr",
          "text": [
            "/usr/local/lib/python3.8/dist-packages/IPython/core/interactiveshell.py:3326: DtypeWarning: Columns (0,1,2,3,4,5,6,7,8,9,10,11,12,13,14,15,16,17,18,19,20,21,22,23,24,25,26,27,28,29,30,31,32,33,34,35,36,37,38,46) have mixed types.Specify dtype option on import or set low_memory=False.\n",
            "  exec(code_obj, self.user_global_ns, self.user_ns)\n"
          ]
        }
      ],
      "source": [
        "df = pd.read_csv(\"/content/XSSDataset.csv\")"
      ]
    },
    {
      "cell_type": "code",
      "execution_count": null,
      "metadata": {
        "colab": {
          "base_uri": "https://localhost:8080/",
          "height": 334
        },
        "id": "ePlng-lNDZU8",
        "outputId": "c32ed53d-b577-4863-d9d1-869e1d8a33a2"
      },
      "outputs": [
        {
          "output_type": "execute_result",
          "data": {
            "text/plain": [
              "  Contains &lt Contains &rt Contains Script Contains And Contains Percentage  \\\n",
              "0            1            1               1            0                   1   \n",
              "1            1            1               1            1                   1   \n",
              "2            1            1               0            1                   1   \n",
              "3            1            1               1            1                   1   \n",
              "4            1            1               1            1                   1   \n",
              "\n",
              "  Contains BackSlash Contains Plus Contains Document Contains Onerror  \\\n",
              "0                  0             0                 1                0   \n",
              "1                  0             0                 1                0   \n",
              "2                  0             0                 0                0   \n",
              "3                  1             0                 0                0   \n",
              "4                  0             0                 1                0   \n",
              "\n",
              "  Contains DIV  ... Contains Space Contains Break Line      Class Unnamed: 40  \\\n",
              "0            0  ...              0                   1  Malicious         NaN   \n",
              "1            0  ...              0                   1  Malicious         NaN   \n",
              "2            0  ...              0                   1  Malicious         NaN   \n",
              "3            0  ...              0                   1  Malicious         NaN   \n",
              "4            0  ...              0                   1  Malicious         NaN   \n",
              "\n",
              "  Unnamed: 41 Unnamed: 42 Unnamed: 43 Unnamed: 44 Unnamed: 45 Unnamed: 46  \n",
              "0         NaN         NaN         NaN         NaN         NaN         NaN  \n",
              "1         NaN         NaN         NaN         NaN         NaN         NaN  \n",
              "2         NaN         NaN         NaN         NaN         NaN         NaN  \n",
              "3         NaN         NaN         NaN         NaN         NaN         NaN  \n",
              "4         NaN         NaN         NaN         NaN         NaN         NaN  \n",
              "\n",
              "[5 rows x 47 columns]"
            ],
            "text/html": [
              "\n",
              "  <div id=\"df-7eb36466-f0e7-4a26-b1a2-1355b9f89db4\">\n",
              "    <div class=\"colab-df-container\">\n",
              "      <div>\n",
              "<style scoped>\n",
              "    .dataframe tbody tr th:only-of-type {\n",
              "        vertical-align: middle;\n",
              "    }\n",
              "\n",
              "    .dataframe tbody tr th {\n",
              "        vertical-align: top;\n",
              "    }\n",
              "\n",
              "    .dataframe thead th {\n",
              "        text-align: right;\n",
              "    }\n",
              "</style>\n",
              "<table border=\"1\" class=\"dataframe\">\n",
              "  <thead>\n",
              "    <tr style=\"text-align: right;\">\n",
              "      <th></th>\n",
              "      <th>Contains &amp;lt</th>\n",
              "      <th>Contains &amp;rt</th>\n",
              "      <th>Contains Script</th>\n",
              "      <th>Contains And</th>\n",
              "      <th>Contains Percentage</th>\n",
              "      <th>Contains BackSlash</th>\n",
              "      <th>Contains Plus</th>\n",
              "      <th>Contains Document</th>\n",
              "      <th>Contains Onerror</th>\n",
              "      <th>Contains DIV</th>\n",
              "      <th>...</th>\n",
              "      <th>Contains Space</th>\n",
              "      <th>Contains Break Line</th>\n",
              "      <th>Class</th>\n",
              "      <th>Unnamed: 40</th>\n",
              "      <th>Unnamed: 41</th>\n",
              "      <th>Unnamed: 42</th>\n",
              "      <th>Unnamed: 43</th>\n",
              "      <th>Unnamed: 44</th>\n",
              "      <th>Unnamed: 45</th>\n",
              "      <th>Unnamed: 46</th>\n",
              "    </tr>\n",
              "  </thead>\n",
              "  <tbody>\n",
              "    <tr>\n",
              "      <th>0</th>\n",
              "      <td>1</td>\n",
              "      <td>1</td>\n",
              "      <td>1</td>\n",
              "      <td>0</td>\n",
              "      <td>1</td>\n",
              "      <td>0</td>\n",
              "      <td>0</td>\n",
              "      <td>1</td>\n",
              "      <td>0</td>\n",
              "      <td>0</td>\n",
              "      <td>...</td>\n",
              "      <td>0</td>\n",
              "      <td>1</td>\n",
              "      <td>Malicious</td>\n",
              "      <td>NaN</td>\n",
              "      <td>NaN</td>\n",
              "      <td>NaN</td>\n",
              "      <td>NaN</td>\n",
              "      <td>NaN</td>\n",
              "      <td>NaN</td>\n",
              "      <td>NaN</td>\n",
              "    </tr>\n",
              "    <tr>\n",
              "      <th>1</th>\n",
              "      <td>1</td>\n",
              "      <td>1</td>\n",
              "      <td>1</td>\n",
              "      <td>1</td>\n",
              "      <td>1</td>\n",
              "      <td>0</td>\n",
              "      <td>0</td>\n",
              "      <td>1</td>\n",
              "      <td>0</td>\n",
              "      <td>0</td>\n",
              "      <td>...</td>\n",
              "      <td>0</td>\n",
              "      <td>1</td>\n",
              "      <td>Malicious</td>\n",
              "      <td>NaN</td>\n",
              "      <td>NaN</td>\n",
              "      <td>NaN</td>\n",
              "      <td>NaN</td>\n",
              "      <td>NaN</td>\n",
              "      <td>NaN</td>\n",
              "      <td>NaN</td>\n",
              "    </tr>\n",
              "    <tr>\n",
              "      <th>2</th>\n",
              "      <td>1</td>\n",
              "      <td>1</td>\n",
              "      <td>0</td>\n",
              "      <td>1</td>\n",
              "      <td>1</td>\n",
              "      <td>0</td>\n",
              "      <td>0</td>\n",
              "      <td>0</td>\n",
              "      <td>0</td>\n",
              "      <td>0</td>\n",
              "      <td>...</td>\n",
              "      <td>0</td>\n",
              "      <td>1</td>\n",
              "      <td>Malicious</td>\n",
              "      <td>NaN</td>\n",
              "      <td>NaN</td>\n",
              "      <td>NaN</td>\n",
              "      <td>NaN</td>\n",
              "      <td>NaN</td>\n",
              "      <td>NaN</td>\n",
              "      <td>NaN</td>\n",
              "    </tr>\n",
              "    <tr>\n",
              "      <th>3</th>\n",
              "      <td>1</td>\n",
              "      <td>1</td>\n",
              "      <td>1</td>\n",
              "      <td>1</td>\n",
              "      <td>1</td>\n",
              "      <td>1</td>\n",
              "      <td>0</td>\n",
              "      <td>0</td>\n",
              "      <td>0</td>\n",
              "      <td>0</td>\n",
              "      <td>...</td>\n",
              "      <td>0</td>\n",
              "      <td>1</td>\n",
              "      <td>Malicious</td>\n",
              "      <td>NaN</td>\n",
              "      <td>NaN</td>\n",
              "      <td>NaN</td>\n",
              "      <td>NaN</td>\n",
              "      <td>NaN</td>\n",
              "      <td>NaN</td>\n",
              "      <td>NaN</td>\n",
              "    </tr>\n",
              "    <tr>\n",
              "      <th>4</th>\n",
              "      <td>1</td>\n",
              "      <td>1</td>\n",
              "      <td>1</td>\n",
              "      <td>1</td>\n",
              "      <td>1</td>\n",
              "      <td>0</td>\n",
              "      <td>0</td>\n",
              "      <td>1</td>\n",
              "      <td>0</td>\n",
              "      <td>0</td>\n",
              "      <td>...</td>\n",
              "      <td>0</td>\n",
              "      <td>1</td>\n",
              "      <td>Malicious</td>\n",
              "      <td>NaN</td>\n",
              "      <td>NaN</td>\n",
              "      <td>NaN</td>\n",
              "      <td>NaN</td>\n",
              "      <td>NaN</td>\n",
              "      <td>NaN</td>\n",
              "      <td>NaN</td>\n",
              "    </tr>\n",
              "  </tbody>\n",
              "</table>\n",
              "<p>5 rows × 47 columns</p>\n",
              "</div>\n",
              "      <button class=\"colab-df-convert\" onclick=\"convertToInteractive('df-7eb36466-f0e7-4a26-b1a2-1355b9f89db4')\"\n",
              "              title=\"Convert this dataframe to an interactive table.\"\n",
              "              style=\"display:none;\">\n",
              "        \n",
              "  <svg xmlns=\"http://www.w3.org/2000/svg\" height=\"24px\"viewBox=\"0 0 24 24\"\n",
              "       width=\"24px\">\n",
              "    <path d=\"M0 0h24v24H0V0z\" fill=\"none\"/>\n",
              "    <path d=\"M18.56 5.44l.94 2.06.94-2.06 2.06-.94-2.06-.94-.94-2.06-.94 2.06-2.06.94zm-11 1L8.5 8.5l.94-2.06 2.06-.94-2.06-.94L8.5 2.5l-.94 2.06-2.06.94zm10 10l.94 2.06.94-2.06 2.06-.94-2.06-.94-.94-2.06-.94 2.06-2.06.94z\"/><path d=\"M17.41 7.96l-1.37-1.37c-.4-.4-.92-.59-1.43-.59-.52 0-1.04.2-1.43.59L10.3 9.45l-7.72 7.72c-.78.78-.78 2.05 0 2.83L4 21.41c.39.39.9.59 1.41.59.51 0 1.02-.2 1.41-.59l7.78-7.78 2.81-2.81c.8-.78.8-2.07 0-2.86zM5.41 20L4 18.59l7.72-7.72 1.47 1.35L5.41 20z\"/>\n",
              "  </svg>\n",
              "      </button>\n",
              "      \n",
              "  <style>\n",
              "    .colab-df-container {\n",
              "      display:flex;\n",
              "      flex-wrap:wrap;\n",
              "      gap: 12px;\n",
              "    }\n",
              "\n",
              "    .colab-df-convert {\n",
              "      background-color: #E8F0FE;\n",
              "      border: none;\n",
              "      border-radius: 50%;\n",
              "      cursor: pointer;\n",
              "      display: none;\n",
              "      fill: #1967D2;\n",
              "      height: 32px;\n",
              "      padding: 0 0 0 0;\n",
              "      width: 32px;\n",
              "    }\n",
              "\n",
              "    .colab-df-convert:hover {\n",
              "      background-color: #E2EBFA;\n",
              "      box-shadow: 0px 1px 2px rgba(60, 64, 67, 0.3), 0px 1px 3px 1px rgba(60, 64, 67, 0.15);\n",
              "      fill: #174EA6;\n",
              "    }\n",
              "\n",
              "    [theme=dark] .colab-df-convert {\n",
              "      background-color: #3B4455;\n",
              "      fill: #D2E3FC;\n",
              "    }\n",
              "\n",
              "    [theme=dark] .colab-df-convert:hover {\n",
              "      background-color: #434B5C;\n",
              "      box-shadow: 0px 1px 3px 1px rgba(0, 0, 0, 0.15);\n",
              "      filter: drop-shadow(0px 1px 2px rgba(0, 0, 0, 0.3));\n",
              "      fill: #FFFFFF;\n",
              "    }\n",
              "  </style>\n",
              "\n",
              "      <script>\n",
              "        const buttonEl =\n",
              "          document.querySelector('#df-7eb36466-f0e7-4a26-b1a2-1355b9f89db4 button.colab-df-convert');\n",
              "        buttonEl.style.display =\n",
              "          google.colab.kernel.accessAllowed ? 'block' : 'none';\n",
              "\n",
              "        async function convertToInteractive(key) {\n",
              "          const element = document.querySelector('#df-7eb36466-f0e7-4a26-b1a2-1355b9f89db4');\n",
              "          const dataTable =\n",
              "            await google.colab.kernel.invokeFunction('convertToInteractive',\n",
              "                                                     [key], {});\n",
              "          if (!dataTable) return;\n",
              "\n",
              "          const docLinkHtml = 'Like what you see? Visit the ' +\n",
              "            '<a target=\"_blank\" href=https://colab.research.google.com/notebooks/data_table.ipynb>data table notebook</a>'\n",
              "            + ' to learn more about interactive tables.';\n",
              "          element.innerHTML = '';\n",
              "          dataTable['output_type'] = 'display_data';\n",
              "          await google.colab.output.renderOutput(dataTable, element);\n",
              "          const docLink = document.createElement('div');\n",
              "          docLink.innerHTML = docLinkHtml;\n",
              "          element.appendChild(docLink);\n",
              "        }\n",
              "      </script>\n",
              "    </div>\n",
              "  </div>\n",
              "  "
            ]
          },
          "metadata": {},
          "execution_count": 110
        }
      ],
      "source": [
        "df.head()"
      ]
    },
    {
      "cell_type": "code",
      "execution_count": null,
      "metadata": {
        "id": "m7A6We5zr5wr"
      },
      "outputs": [],
      "source": [
        "df = df.loc[:, ~df.columns.str.match('Unnamed')]"
      ]
    },
    {
      "cell_type": "code",
      "execution_count": null,
      "metadata": {
        "colab": {
          "base_uri": "https://localhost:8080/",
          "height": 334
        },
        "id": "605k9aPjDjlY",
        "outputId": "d023d593-1bc9-4d4a-a8b9-2f05bd9dd249"
      },
      "outputs": [
        {
          "output_type": "execute_result",
          "data": {
            "text/plain": [
              "  Contains &lt Contains &rt Contains Script Contains And Contains Percentage  \\\n",
              "0            1            1               1            0                   1   \n",
              "1            1            1               1            1                   1   \n",
              "2            1            1               0            1                   1   \n",
              "3            1            1               1            1                   1   \n",
              "4            1            1               1            1                   1   \n",
              "\n",
              "  Contains BackSlash Contains Plus Contains Document Contains Onerror  \\\n",
              "0                  0             0                 1                0   \n",
              "1                  0             0                 1                0   \n",
              "2                  0             0                 0                0   \n",
              "3                  1             0                 0                0   \n",
              "4                  0             0                 1                0   \n",
              "\n",
              "  Contains DIV  ... Contains Underscore Contains location Contains Search  \\\n",
              "0            0  ...                   1                 0               1   \n",
              "1            0  ...                   1                 0               1   \n",
              "2            0  ...                   1                 0               0   \n",
              "3            0  ...                   1                 0               0   \n",
              "4            0  ...                   1                 0               1   \n",
              "\n",
              "  Contains &# Contains Open Brace Contains Close Brace Contains tilde  \\\n",
              "0           0                   0                    0              0   \n",
              "1           0                   0                    0              0   \n",
              "2           0                   0                    0              0   \n",
              "3           0                   0                    0              0   \n",
              "4           0                   0                    0              0   \n",
              "\n",
              "  Contains Space Contains Break Line      Class  \n",
              "0              0                   1  Malicious  \n",
              "1              0                   1  Malicious  \n",
              "2              0                   1  Malicious  \n",
              "3              0                   1  Malicious  \n",
              "4              0                   1  Malicious  \n",
              "\n",
              "[5 rows x 40 columns]"
            ],
            "text/html": [
              "\n",
              "  <div id=\"df-5807b5e5-39dc-41c4-a74b-edc89fb5ecdc\">\n",
              "    <div class=\"colab-df-container\">\n",
              "      <div>\n",
              "<style scoped>\n",
              "    .dataframe tbody tr th:only-of-type {\n",
              "        vertical-align: middle;\n",
              "    }\n",
              "\n",
              "    .dataframe tbody tr th {\n",
              "        vertical-align: top;\n",
              "    }\n",
              "\n",
              "    .dataframe thead th {\n",
              "        text-align: right;\n",
              "    }\n",
              "</style>\n",
              "<table border=\"1\" class=\"dataframe\">\n",
              "  <thead>\n",
              "    <tr style=\"text-align: right;\">\n",
              "      <th></th>\n",
              "      <th>Contains &amp;lt</th>\n",
              "      <th>Contains &amp;rt</th>\n",
              "      <th>Contains Script</th>\n",
              "      <th>Contains And</th>\n",
              "      <th>Contains Percentage</th>\n",
              "      <th>Contains BackSlash</th>\n",
              "      <th>Contains Plus</th>\n",
              "      <th>Contains Document</th>\n",
              "      <th>Contains Onerror</th>\n",
              "      <th>Contains DIV</th>\n",
              "      <th>...</th>\n",
              "      <th>Contains Underscore</th>\n",
              "      <th>Contains location</th>\n",
              "      <th>Contains Search</th>\n",
              "      <th>Contains &amp;#</th>\n",
              "      <th>Contains Open Brace</th>\n",
              "      <th>Contains Close Brace</th>\n",
              "      <th>Contains tilde</th>\n",
              "      <th>Contains Space</th>\n",
              "      <th>Contains Break Line</th>\n",
              "      <th>Class</th>\n",
              "    </tr>\n",
              "  </thead>\n",
              "  <tbody>\n",
              "    <tr>\n",
              "      <th>0</th>\n",
              "      <td>1</td>\n",
              "      <td>1</td>\n",
              "      <td>1</td>\n",
              "      <td>0</td>\n",
              "      <td>1</td>\n",
              "      <td>0</td>\n",
              "      <td>0</td>\n",
              "      <td>1</td>\n",
              "      <td>0</td>\n",
              "      <td>0</td>\n",
              "      <td>...</td>\n",
              "      <td>1</td>\n",
              "      <td>0</td>\n",
              "      <td>1</td>\n",
              "      <td>0</td>\n",
              "      <td>0</td>\n",
              "      <td>0</td>\n",
              "      <td>0</td>\n",
              "      <td>0</td>\n",
              "      <td>1</td>\n",
              "      <td>Malicious</td>\n",
              "    </tr>\n",
              "    <tr>\n",
              "      <th>1</th>\n",
              "      <td>1</td>\n",
              "      <td>1</td>\n",
              "      <td>1</td>\n",
              "      <td>1</td>\n",
              "      <td>1</td>\n",
              "      <td>0</td>\n",
              "      <td>0</td>\n",
              "      <td>1</td>\n",
              "      <td>0</td>\n",
              "      <td>0</td>\n",
              "      <td>...</td>\n",
              "      <td>1</td>\n",
              "      <td>0</td>\n",
              "      <td>1</td>\n",
              "      <td>0</td>\n",
              "      <td>0</td>\n",
              "      <td>0</td>\n",
              "      <td>0</td>\n",
              "      <td>0</td>\n",
              "      <td>1</td>\n",
              "      <td>Malicious</td>\n",
              "    </tr>\n",
              "    <tr>\n",
              "      <th>2</th>\n",
              "      <td>1</td>\n",
              "      <td>1</td>\n",
              "      <td>0</td>\n",
              "      <td>1</td>\n",
              "      <td>1</td>\n",
              "      <td>0</td>\n",
              "      <td>0</td>\n",
              "      <td>0</td>\n",
              "      <td>0</td>\n",
              "      <td>0</td>\n",
              "      <td>...</td>\n",
              "      <td>1</td>\n",
              "      <td>0</td>\n",
              "      <td>0</td>\n",
              "      <td>0</td>\n",
              "      <td>0</td>\n",
              "      <td>0</td>\n",
              "      <td>0</td>\n",
              "      <td>0</td>\n",
              "      <td>1</td>\n",
              "      <td>Malicious</td>\n",
              "    </tr>\n",
              "    <tr>\n",
              "      <th>3</th>\n",
              "      <td>1</td>\n",
              "      <td>1</td>\n",
              "      <td>1</td>\n",
              "      <td>1</td>\n",
              "      <td>1</td>\n",
              "      <td>1</td>\n",
              "      <td>0</td>\n",
              "      <td>0</td>\n",
              "      <td>0</td>\n",
              "      <td>0</td>\n",
              "      <td>...</td>\n",
              "      <td>1</td>\n",
              "      <td>0</td>\n",
              "      <td>0</td>\n",
              "      <td>0</td>\n",
              "      <td>0</td>\n",
              "      <td>0</td>\n",
              "      <td>0</td>\n",
              "      <td>0</td>\n",
              "      <td>1</td>\n",
              "      <td>Malicious</td>\n",
              "    </tr>\n",
              "    <tr>\n",
              "      <th>4</th>\n",
              "      <td>1</td>\n",
              "      <td>1</td>\n",
              "      <td>1</td>\n",
              "      <td>1</td>\n",
              "      <td>1</td>\n",
              "      <td>0</td>\n",
              "      <td>0</td>\n",
              "      <td>1</td>\n",
              "      <td>0</td>\n",
              "      <td>0</td>\n",
              "      <td>...</td>\n",
              "      <td>1</td>\n",
              "      <td>0</td>\n",
              "      <td>1</td>\n",
              "      <td>0</td>\n",
              "      <td>0</td>\n",
              "      <td>0</td>\n",
              "      <td>0</td>\n",
              "      <td>0</td>\n",
              "      <td>1</td>\n",
              "      <td>Malicious</td>\n",
              "    </tr>\n",
              "  </tbody>\n",
              "</table>\n",
              "<p>5 rows × 40 columns</p>\n",
              "</div>\n",
              "      <button class=\"colab-df-convert\" onclick=\"convertToInteractive('df-5807b5e5-39dc-41c4-a74b-edc89fb5ecdc')\"\n",
              "              title=\"Convert this dataframe to an interactive table.\"\n",
              "              style=\"display:none;\">\n",
              "        \n",
              "  <svg xmlns=\"http://www.w3.org/2000/svg\" height=\"24px\"viewBox=\"0 0 24 24\"\n",
              "       width=\"24px\">\n",
              "    <path d=\"M0 0h24v24H0V0z\" fill=\"none\"/>\n",
              "    <path d=\"M18.56 5.44l.94 2.06.94-2.06 2.06-.94-2.06-.94-.94-2.06-.94 2.06-2.06.94zm-11 1L8.5 8.5l.94-2.06 2.06-.94-2.06-.94L8.5 2.5l-.94 2.06-2.06.94zm10 10l.94 2.06.94-2.06 2.06-.94-2.06-.94-.94-2.06-.94 2.06-2.06.94z\"/><path d=\"M17.41 7.96l-1.37-1.37c-.4-.4-.92-.59-1.43-.59-.52 0-1.04.2-1.43.59L10.3 9.45l-7.72 7.72c-.78.78-.78 2.05 0 2.83L4 21.41c.39.39.9.59 1.41.59.51 0 1.02-.2 1.41-.59l7.78-7.78 2.81-2.81c.8-.78.8-2.07 0-2.86zM5.41 20L4 18.59l7.72-7.72 1.47 1.35L5.41 20z\"/>\n",
              "  </svg>\n",
              "      </button>\n",
              "      \n",
              "  <style>\n",
              "    .colab-df-container {\n",
              "      display:flex;\n",
              "      flex-wrap:wrap;\n",
              "      gap: 12px;\n",
              "    }\n",
              "\n",
              "    .colab-df-convert {\n",
              "      background-color: #E8F0FE;\n",
              "      border: none;\n",
              "      border-radius: 50%;\n",
              "      cursor: pointer;\n",
              "      display: none;\n",
              "      fill: #1967D2;\n",
              "      height: 32px;\n",
              "      padding: 0 0 0 0;\n",
              "      width: 32px;\n",
              "    }\n",
              "\n",
              "    .colab-df-convert:hover {\n",
              "      background-color: #E2EBFA;\n",
              "      box-shadow: 0px 1px 2px rgba(60, 64, 67, 0.3), 0px 1px 3px 1px rgba(60, 64, 67, 0.15);\n",
              "      fill: #174EA6;\n",
              "    }\n",
              "\n",
              "    [theme=dark] .colab-df-convert {\n",
              "      background-color: #3B4455;\n",
              "      fill: #D2E3FC;\n",
              "    }\n",
              "\n",
              "    [theme=dark] .colab-df-convert:hover {\n",
              "      background-color: #434B5C;\n",
              "      box-shadow: 0px 1px 3px 1px rgba(0, 0, 0, 0.15);\n",
              "      filter: drop-shadow(0px 1px 2px rgba(0, 0, 0, 0.3));\n",
              "      fill: #FFFFFF;\n",
              "    }\n",
              "  </style>\n",
              "\n",
              "      <script>\n",
              "        const buttonEl =\n",
              "          document.querySelector('#df-5807b5e5-39dc-41c4-a74b-edc89fb5ecdc button.colab-df-convert');\n",
              "        buttonEl.style.display =\n",
              "          google.colab.kernel.accessAllowed ? 'block' : 'none';\n",
              "\n",
              "        async function convertToInteractive(key) {\n",
              "          const element = document.querySelector('#df-5807b5e5-39dc-41c4-a74b-edc89fb5ecdc');\n",
              "          const dataTable =\n",
              "            await google.colab.kernel.invokeFunction('convertToInteractive',\n",
              "                                                     [key], {});\n",
              "          if (!dataTable) return;\n",
              "\n",
              "          const docLinkHtml = 'Like what you see? Visit the ' +\n",
              "            '<a target=\"_blank\" href=https://colab.research.google.com/notebooks/data_table.ipynb>data table notebook</a>'\n",
              "            + ' to learn more about interactive tables.';\n",
              "          element.innerHTML = '';\n",
              "          dataTable['output_type'] = 'display_data';\n",
              "          await google.colab.output.renderOutput(dataTable, element);\n",
              "          const docLink = document.createElement('div');\n",
              "          docLink.innerHTML = docLinkHtml;\n",
              "          element.appendChild(docLink);\n",
              "        }\n",
              "      </script>\n",
              "    </div>\n",
              "  </div>\n",
              "  "
            ]
          },
          "metadata": {},
          "execution_count": 112
        }
      ],
      "source": [
        "df.head()"
      ]
    },
    {
      "cell_type": "code",
      "execution_count": null,
      "metadata": {
        "colab": {
          "base_uri": "https://localhost:8080/"
        },
        "id": "XEZ3ntRRqTCR",
        "outputId": "196da997-aa9a-4a55-a0ee-54edbe9de712"
      },
      "outputs": [
        {
          "output_type": "execute_result",
          "data": {
            "text/plain": [
              "Contains &lt                  2\n",
              "Contains &rt                  2\n",
              "Contains Script               2\n",
              "Contains And                  2\n",
              "Contains Percentage           2\n",
              "Contains BackSlash            2\n",
              "Contains Plus                 2\n",
              "Contains Document             2\n",
              "Contains Onerror              2\n",
              "Contains DIV                  2\n",
              "Contains iframe               2\n",
              "Contains img                  2\n",
              "Contains SRC                  2\n",
              "Contains Var                  2\n",
              "Contains Eval                 2\n",
              "Contains href                 2\n",
              "Contains Cookie               2\n",
              "Contains Single Quote         2\n",
              "Contains Question Mark        2\n",
              "Contains Exclamation Mark     2\n",
              "Contains HTTPS                2\n",
              "Contains JS                   2\n",
              "Contains Hash                 2\n",
              "Contains Equal                2\n",
              "Contains Open Parenthesis     2\n",
              "Contains Close Parenthesis    2\n",
              "Contains Asterisk             2\n",
              "Contains Comma                2\n",
              "Contains Hyphen               2\n",
              "Contains At                   2\n",
              "Contains Underscore           2\n",
              "Contains location             2\n",
              "Contains Search               2\n",
              "Contains &#                   2\n",
              "Contains Open Brace           2\n",
              "Contains Close Brace          2\n",
              "Contains tilde                2\n",
              "Contains Space                2\n",
              "Contains Break Line           2\n",
              "Class                         2\n",
              "dtype: int64"
            ]
          },
          "metadata": {},
          "execution_count": 113
        }
      ],
      "source": [
        "pd.isnull(df).sum()"
      ]
    },
    {
      "cell_type": "code",
      "execution_count": null,
      "metadata": {
        "id": "lsidZitn5qAe"
      },
      "outputs": [],
      "source": [
        "df = df.dropna()"
      ]
    },
    {
      "cell_type": "code",
      "execution_count": null,
      "metadata": {
        "colab": {
          "base_uri": "https://localhost:8080/"
        },
        "id": "slmxKu5V5tD7",
        "outputId": "9edfb326-340a-4858-ff72-1b68bd84b7e8"
      },
      "outputs": [
        {
          "output_type": "execute_result",
          "data": {
            "text/plain": [
              "Contains &lt                  0\n",
              "Contains &rt                  0\n",
              "Contains Script               0\n",
              "Contains And                  0\n",
              "Contains Percentage           0\n",
              "Contains BackSlash            0\n",
              "Contains Plus                 0\n",
              "Contains Document             0\n",
              "Contains Onerror              0\n",
              "Contains DIV                  0\n",
              "Contains iframe               0\n",
              "Contains img                  0\n",
              "Contains SRC                  0\n",
              "Contains Var                  0\n",
              "Contains Eval                 0\n",
              "Contains href                 0\n",
              "Contains Cookie               0\n",
              "Contains Single Quote         0\n",
              "Contains Question Mark        0\n",
              "Contains Exclamation Mark     0\n",
              "Contains HTTPS                0\n",
              "Contains JS                   0\n",
              "Contains Hash                 0\n",
              "Contains Equal                0\n",
              "Contains Open Parenthesis     0\n",
              "Contains Close Parenthesis    0\n",
              "Contains Asterisk             0\n",
              "Contains Comma                0\n",
              "Contains Hyphen               0\n",
              "Contains At                   0\n",
              "Contains Underscore           0\n",
              "Contains location             0\n",
              "Contains Search               0\n",
              "Contains &#                   0\n",
              "Contains Open Brace           0\n",
              "Contains Close Brace          0\n",
              "Contains tilde                0\n",
              "Contains Space                0\n",
              "Contains Break Line           0\n",
              "Class                         0\n",
              "dtype: int64"
            ]
          },
          "metadata": {},
          "execution_count": 115
        }
      ],
      "source": [
        "pd.isnull(df).sum()"
      ]
    },
    {
      "cell_type": "code",
      "execution_count": null,
      "metadata": {
        "colab": {
          "base_uri": "https://localhost:8080/"
        },
        "id": "c3d5T7nNEX8e",
        "outputId": "97a4496a-03af-4bb8-b464-a5c8f6ff52e0"
      },
      "outputs": [
        {
          "output_type": "execute_result",
          "data": {
            "text/plain": [
              "array([1, 0, '0', '1', '#ERROR!',\n",
              "       ' ?�?�?� ?�?�?�?�?� ?�?�?�?� ?�?�?�???�?�?�?� ???�???�?�?�?�?�?�?� ?�?�?�?�?�?�?�?�?�.\\\\\"\"; i18n[\\\\\"\"open for editing in a new tab\\\\\"\"] = \\\\\"\"?�?�?�???�?�?�?� ?�?�?? ?�?�?�?�?�?�?�?�?�?�?? ?� ?�?�?�?�?� ?�???�?�?�?�?�\\\\\"\"; i18n[\\\\\"\"editor option\\\\\"\"] = \\\\\"\"?????�?�?� ?�?�?�?�???�?�?�?�\\\\\"\"; i18n[\\\\\"\"choose a theme\\\\\"\"] = \\\\\"\"?�?�?�?�?�?�?�?� ?�?�?�?�\\\\\"\"; i18n[\\\\\"\"no theme\\\\\"\"] = \\\\\"\"?�?�?� ?�?�?�?�\\\\\"\"; i18n[\\\\\"\"default theme\\\\\"\"] = \\\\\"\"?�?�?�?� ?�?� ???�?�?�?�?�?�?�?�?�???�\\\\\"\"; /* i18n[\\\\\"\"cobalt\\\\\"\"] = \\\\\"\"cobalt\\\\\"\"; i18n[\\\\\"\"eclipse\\\\\"\"] = \\\\\"\"eclipse\\\\\"\"; i18n[\\\\\"\"elegant\\\\\"\"] = \\\\\"\"elegant\\\\\"\"; i18n[\\\\\"\"monokai\\\\\"\"] = \\\\\"\"monokai\\\\\"\"; i18n[\\\\\"\"neat\\\\\"\"] = \\\\\"\"neat\\\\\"\"; i18n[\\\\\"\"night\\\\\"\"] = \\\\\"\"night\\\\\"\"; i18n[\\\\\"\"rubyblue\\\\\"\"] = \\\\\"\"rubyblue\\\\\"\"; */// in file: ../../js/ui/component/editorconf.js i18n[\\\\\"\"main\\\\\"\"] = \\\\\"\"?�?�?�?�?�?�?�?�\\\\\"\"; i18n[\\\\\"\"module \\\\\\\\\\\\\"\"all files\\\\\\\\\\\\\"\"\\\\\"\"] = \\\\\"\"?�?�?�?�?�?� \\\\\\\\\\\\\"\"?�???� ?�?�?�?�?�\\\\\\\\\\\\\"\"\\\\\"\"; i18n[\\\\\"\"module \\\\\\\\\\\\\"\"files need translate\\\\\\\\\\\\\"\"\\\\\"\"] = \\\\\"\"?�?�?�?�?�?� \\\\\\\\\\\\\"\"?�?�?�?�?�'],\n",
              "      dtype=object)"
            ]
          },
          "metadata": {},
          "execution_count": 116
        }
      ],
      "source": [
        "df['Contains &rt'].unique()"
      ]
    },
    {
      "cell_type": "code",
      "execution_count": null,
      "metadata": {
        "colab": {
          "base_uri": "https://localhost:8080/"
        },
        "id": "QToAGsquYFu3",
        "outputId": "957031fc-1a16-4dbb-9f5b-857b597abd4b"
      },
      "outputs": [
        {
          "output_type": "execute_result",
          "data": {
            "text/plain": [
              "(43217, 40)"
            ]
          },
          "metadata": {},
          "execution_count": 117
        }
      ],
      "source": [
        "df.shape"
      ]
    },
    {
      "cell_type": "code",
      "execution_count": null,
      "metadata": {
        "colab": {
          "base_uri": "https://localhost:8080/"
        },
        "id": "zhVGciDG9Gbv",
        "outputId": "0eadd4ea-feaf-4e69-97fa-fead6fa860a7"
      },
      "outputs": [
        {
          "output_type": "stream",
          "name": "stderr",
          "text": [
            "/usr/local/lib/python3.8/dist-packages/pandas/core/frame.py:4906: SettingWithCopyWarning: \n",
            "A value is trying to be set on a copy of a slice from a DataFrame\n",
            "\n",
            "See the caveats in the documentation: https://pandas.pydata.org/pandas-docs/stable/user_guide/indexing.html#returning-a-view-versus-a-copy\n",
            "  return super().drop(\n",
            "<ipython-input-118-07f8fd678a63>:5: SettingWithCopyWarning: \n",
            "A value is trying to be set on a copy of a slice from a DataFrame.\n",
            "Try using .loc[row_indexer,col_indexer] = value instead\n",
            "\n",
            "See the caveats in the documentation: https://pandas.pydata.org/pandas-docs/stable/user_guide/indexing.html#returning-a-view-versus-a-copy\n",
            "  df[column] = df[column].astype(int)\n"
          ]
        },
        {
          "output_type": "stream",
          "name": "stdout",
          "text": [
            "[1 0]\n",
            "[1 0]\n",
            "[1 0]\n",
            "[0 1]\n",
            "[1 0]\n",
            "[0 1]\n",
            "[0 1]\n",
            "[1 0]\n",
            "[0 1]\n",
            "[0 1]\n",
            "[0 1]\n",
            "[0 1]\n",
            "[0 1]\n",
            "[0 1]\n",
            "[0 1]\n",
            "[0 1]\n",
            "[1 0]\n",
            "[0 1]\n",
            "[1 0]\n",
            "[0 1]\n",
            "[0 1]\n",
            "[0 1]\n",
            "[0 1]\n",
            "[1 0]\n",
            "[0 1]\n",
            "[0 1]\n",
            "[0 1]\n",
            "[0 1]\n",
            "[0 1]\n",
            "[0 1]\n",
            "[1 0]\n",
            "[0 1]\n",
            "[1 0]\n",
            "[0 1]\n",
            "[0 1]\n",
            "[0 1]\n",
            "[0 1]\n",
            "[0 1]\n",
            "[1 0]\n"
          ]
        }
      ],
      "source": [
        "# remove #ERROR!, #REF!, and other miscellaneous records\n",
        "ones_zeros = ['0', '1', 1 , 0]\n",
        "for column in df.loc[:, df.columns != 'Class']:\n",
        "  df.drop(df[(~df[column].isin(ones_zeros))].index, inplace=True)\n",
        "  df[column] = df[column].astype(int)\n",
        "  print(df[column].unique())"
      ]
    },
    {
      "cell_type": "code",
      "execution_count": null,
      "metadata": {
        "colab": {
          "base_uri": "https://localhost:8080/"
        },
        "id": "OL4gBBnpYDFl",
        "outputId": "95532704-4ac1-42f1-f5a3-ba5130a4d4e3"
      },
      "outputs": [
        {
          "output_type": "execute_result",
          "data": {
            "text/plain": [
              "(43215, 40)"
            ]
          },
          "metadata": {},
          "execution_count": 119
        }
      ],
      "source": [
        "df.shape"
      ]
    },
    {
      "cell_type": "code",
      "execution_count": null,
      "metadata": {
        "colab": {
          "base_uri": "https://localhost:8080/"
        },
        "id": "gxq6chULEATM",
        "outputId": "58deeba1-f321-4940-a9e6-4f422b7fcde0"
      },
      "outputs": [
        {
          "output_type": "execute_result",
          "data": {
            "text/plain": [
              "array(['Malicious', 'Benign'], dtype=object)"
            ]
          },
          "metadata": {},
          "execution_count": 120
        }
      ],
      "source": [
        "df['Class'].unique()"
      ]
    },
    {
      "cell_type": "code",
      "execution_count": null,
      "metadata": {
        "colab": {
          "base_uri": "https://localhost:8080/"
        },
        "id": "4nZy0Ka9i2qI",
        "outputId": "46e15da0-1c54-4d93-d2dc-6ec9c35efa15"
      },
      "outputs": [
        {
          "output_type": "execute_result",
          "data": {
            "text/plain": [
              "Benign       28067\n",
              "Malicious    15148\n",
              "Name: Class, dtype: int64"
            ]
          },
          "metadata": {},
          "execution_count": 121
        }
      ],
      "source": [
        "df['Class'].value_counts()"
      ]
    },
    {
      "cell_type": "code",
      "execution_count": null,
      "metadata": {
        "colab": {
          "base_uri": "https://localhost:8080/",
          "height": 279
        },
        "id": "vthX6NvZmLtT",
        "outputId": "4b99dfba-28ff-4708-fba5-0bde81603579"
      },
      "outputs": [
        {
          "output_type": "display_data",
          "data": {
            "text/plain": [
              "<Figure size 432x288 with 1 Axes>"
            ],
            "image/png": "[encoded data removed]"
          },
          "metadata": {
            "needs_background": "light"
          }
        }
      ],
      "source": [
        "sns.countplot(data=df, x=\"Class\");"
      ]
    },
    {
      "cell_type": "code",
      "execution_count": null,
      "metadata": {
        "id": "iA9SoE3d_4cg"
      },
      "outputs": [],
      "source": [
        "label_encoder = preprocessing.LabelEncoder()\n",
        "df['Class']= label_encoder.fit_transform(df['Class']) "
      ]
    },
    {
      "cell_type": "code",
      "execution_count": null,
      "metadata": {
        "colab": {
          "base_uri": "https://localhost:8080/"
        },
        "id": "7bzUgxu4ASLn",
        "outputId": "3f261ef2-1045-43b6-d99f-a452c0ee2171"
      },
      "outputs": [
        {
          "output_type": "execute_result",
          "data": {
            "text/plain": [
              "array([1, 0])"
            ]
          },
          "metadata": {},
          "execution_count": 101
        }
      ],
      "source": [
        "df['Class'].unique()"
      ]
    },
    {
      "cell_type": "code",
      "execution_count": null,
      "metadata": {
        "id": "-FiDL9Hy5-It"
      },
      "outputs": [],
      "source": [
        "array = df.values\n",
        "\n",
        "X = array[0:,0:39]\n",
        "Y = array[:,39]\n",
        "# Y=Y.astype('int')"
      ]
    },
    {
      "cell_type": "code",
      "execution_count": null,
      "metadata": {
        "colab": {
          "base_uri": "https://localhost:8080/"
        },
        "id": "q-1eEesFt77F",
        "outputId": "a91a72c1-e4dc-4074-86da-5079bfb8946c"
      },
      "outputs": [
        {
          "output_type": "stream",
          "name": "stdout",
          "text": [
            "X rows:  [[1 1 1 ... 0 0 1]\n",
            " [1 1 1 ... 0 0 1]\n",
            " [1 1 0 ... 0 0 1]\n",
            " ...\n",
            " [0 0 1 ... 0 0 0]\n",
            " [0 0 1 ... 0 0 1]\n",
            " [0 0 1 ... 0 0 1]]\n",
            "Y rows:  [1 1 1 ... 1 1 1]\n"
          ]
        }
      ],
      "source": [
        "print(\"X rows: \" , X)\n",
        "print(\"Y rows: \" , Y)"
      ]
    },
    {
      "cell_type": "code",
      "execution_count": null,
      "metadata": {
        "colab": {
          "base_uri": "https://localhost:8080/"
        },
        "id": "2_RhbjU86VPd",
        "outputId": "d39d0894-0c14-4611-ae2c-0cee0a8c3a3c"
      },
      "outputs": [
        {
          "output_type": "stream",
          "name": "stdout",
          "text": [
            "int64\n",
            "int64\n"
          ]
        }
      ],
      "source": [
        "print(X.dtype)\n",
        "print(Y.dtype)"
      ]
    },
    {
      "cell_type": "code",
      "execution_count": null,
      "metadata": {
        "colab": {
          "base_uri": "https://localhost:8080/"
        },
        "id": "JLP67hSTlqvy",
        "outputId": "dd6c46d0-fb44-43d8-a474-1329c0108e1d"
      },
      "outputs": [
        {
          "output_type": "stream",
          "name": "stdout",
          "text": [
            "[0.23561067 0.23226006 0.37390758 0.00483891 0.0607995  0.\n",
            " 0.00877001 0.07182315 0.         0.         0.01644817 0.00838934\n",
            " 0.03011169 0.00970733 0.00504397 0.         0.07676362 0.00438863\n",
            " 0.22929617 0.02683206 0.00846539 0.00711203 0.00128045 0.06851631\n",
            " 0.12230218 0.12170931 0.00205411 0.06463948 0.04130543 0.00617326\n",
            " 0.04309279 0.02525117 0.07763246 0.00138131 0.00451019 0.00537108\n",
            " 0.00131965 0.05782454 0.04183707]\n"
          ]
        },
        {
          "output_type": "execute_result",
          "data": {
            "text/plain": [
              "39"
            ]
          },
          "metadata": {},
          "execution_count": 105
        }
      ],
      "source": [
        "from sklearn.feature_selection import mutual_info_classif as MIC\n",
        "mi_scores = MIC(X,Y)\n",
        "print(mi_scores)\n",
        "mi_scores.size"
      ]
    },
    {
      "cell_type": "code",
      "execution_count": null,
      "metadata": {
        "id": "8-1zQYsVr_u2"
      },
      "outputs": [],
      "source": [
        "models = []\n",
        "models.append(('Logistic Regression', LogisticRegression()))\n",
        "models.append(('Linear Discriminant Analysis', LinearDiscriminantAnalysis()))\n",
        "models.append(('Decision Tree', DecisionTreeClassifier()))\n",
        "models.append(('Naive Bayes', GaussianNB()))\n",
        "models.append(('Support Vector Machine', SVC()))\n",
        "models.append(('K-nearest Neighbors', KNeighborsClassifier()))"
      ]
    },
    {
      "cell_type": "code",
      "execution_count": null,
      "metadata": {
        "colab": {
          "base_uri": "https://localhost:8080/"
        },
        "id": "FSVOxaIWanrj",
        "outputId": "0a6f657a-385b-4379-85f6-a6d54fa39246"
      },
      "outputs": [
        {
          "output_type": "stream",
          "name": "stdout",
          "text": [
            "Logistic Regression\n",
            "accuracy :  0.9685030362463657\n",
            "precision :  0.9626027084859986\n",
            "recall :  0.9666620889301611\n",
            "f1 :  0.9601409713568272\n",
            "Linear Discriminant Analysis\n",
            "accuracy :  0.9572100182047342\n",
            "precision :  0.960647459773438\n",
            "recall :  0.9354996054427106\n",
            "f1 :  0.9434749872074173\n",
            "Decision Tree\n",
            "accuracy :  0.9617915036934759\n",
            "precision :  0.9513424714109033\n",
            "recall :  0.9758402762337\n",
            "f1 :  0.9565107351644275\n",
            "Naive Bayes\n",
            "accuracy :  0.9347166603785244\n",
            "precision :  0.9251415640927201\n",
            "recall :  0.9382069660070366\n",
            "f1 :  0.922659140201876\n",
            "Support Vector Machine\n",
            "accuracy :  0.9629022505694937\n",
            "precision :  0.9509434202994601\n",
            "recall :  0.9829689455074966\n",
            "f1 :  0.9596019739497204\n",
            "K-nearest Neighbors\n",
            "accuracy :  0.9659570454377271\n",
            "precision :  0.9561651889790241\n",
            "recall :  0.9776213209167679\n",
            "f1 :  0.9606544399603182\n"
          ]
        }
      ],
      "source": [
        "from sklearn.preprocessing import LabelBinarizer\n",
        "\n",
        "results = []\n",
        "metrics = ['accuracy', 'precision', 'recall', 'f1']\n",
        "lb = LabelBinarizer()\n",
        "y_train = np.array([number[0] for number in lb.fit_transform(Y)])\n",
        "\n",
        "for name, model in models:\n",
        "  print(name)\n",
        "  for metric in metrics:\n",
        "    metricValue = model_selection.cross_val_score(model, X, y_train, cv=10, scoring=metric)\n",
        "    print(metric, \": \", np.mean(metricValue))\n",
        "    results.append(metricValue)"
      ]
    },
    {
      "cell_type": "code",
      "source": [
        "# to plot\n",
        "values = []\n",
        "names = ['LR', 'LDA', 'CART', 'NB', 'SVM', 'kNN']\n",
        "for name, model in models:\n",
        "  print(name)\n",
        "  metricValue = model_selection.cross_val_score(model, X, y_train, cv=10, scoring='recall')\n",
        "  print(metric, \": \", np.mean(metricValue))\n",
        "  values.append(metricValue)"
      ],
      "metadata": {
        "colab": {
          "base_uri": "https://localhost:8080/"
        },
        "id": "dCdw-SQgbCTj",
        "outputId": "e7fa8b7e-3c17-4f5c-f1a0-93aac4f45302"
      },
      "execution_count": null,
      "outputs": [
        {
          "output_type": "stream",
          "name": "stdout",
          "text": [
            "Logistic Regression\n",
            "f1 :  0.9666620889301611\n",
            "Linear Discriminant Analysis\n",
            "f1 :  0.9354996054427106\n",
            "Decision Tree\n",
            "f1 :  0.9758407122086051\n",
            "Naive Bayes\n",
            "f1 :  0.9382069660070366\n",
            "Support Vector Machine\n",
            "f1 :  0.9829689455074966\n",
            "K-nearest Neighbors\n",
            "f1 :  0.9776213209167679\n"
          ]
        }
      ]
    },
    {
      "cell_type": "code",
      "execution_count": null,
      "metadata": {
        "id": "RVkRwlyusFbV",
        "colab": {
          "base_uri": "https://localhost:8080/",
          "height": 330
        },
        "outputId": "38815512-6478-4a2d-d64d-fce83d05f451"
      },
      "outputs": [
        {
          "output_type": "stream",
          "name": "stdout",
          "text": [
            "[0.98877888 0.98085809 0.99669967 0.99867987 0.99537954 0.98481848\n",
            " 0.95973597 0.8310231  0.98414795 0.94649934]\n"
          ]
        },
        {
          "output_type": "display_data",
          "data": {
            "text/plain": [
              "<Figure size 432x288 with 1 Axes>"
            ],
            "image/png": "[encoded data removed]"
          },
          "metadata": {
            "needs_background": "light"
          }
        }
      ],
      "source": [
        "fig = plt.figure()\n",
        "fig.suptitle('Comparison Chart - recall Score')\n",
        "ax = fig.add_subplot(111)\n",
        "plt.boxplot(values)\n",
        "# lr - acc, prec, recall, f1\n",
        "print(values[0])\n",
        "# print(values)\n",
        "ax.set_xticklabels(names)\n",
        "plt.show()"
      ]
    },
    {
      "cell_type": "code",
      "execution_count": null,
      "metadata": {
        "colab": {
          "base_uri": "https://localhost:8080/",
          "height": 370
        },
        "id": "EuKW_TsDzRrf",
        "outputId": "044f44ea-8f7a-41f1-d7fb-54a3421b7974"
      },
      "outputs": [
        {
          "data": {
            "image/png": "[encoded data removed]",
            "text/plain": [
              "<Figure size 432x288 with 2 Axes>"
            ]
          },
          "metadata": {},
          "output_type": "display_data"
        }
      ],
      "source": [
        "sampledf = df[['Contains BackSlash', 'Contains Plus',\n",
        "       'Contains Document', 'Contains Onerror', 'Contains DIV',\n",
        "       'Contains iframe', 'Contains img', 'Contains SRC', 'Contains Var',\n",
        "       'Contains Eval', 'Contains href', 'Contains Cookie',\n",
        "       'Contains Single Quote']]\n",
        "sns.heatmap(sampledf.head());"
      ]
    }
  ],
  "metadata": {
    "colab": {
      "provenance": [],
      "include_colab_link": true
    },
    "kernelspec": {
      "display_name": "Python 3",
      "name": "python3"
    },
    "language_info": {
      "name": "python"
    }
  },
  "nbformat": 4,
  "nbformat_minor": 0
}