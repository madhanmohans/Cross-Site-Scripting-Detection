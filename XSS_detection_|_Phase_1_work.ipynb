{
  "nbformat": 4,
  "nbformat_minor": 0,
  "metadata": {
    "colab": {
      "provenance": [],
      "include_colab_link": true
    },
    "kernelspec": {
      "name": "python3",
      "display_name": "Python 3"
    },
    "language_info": {
      "name": "python"
    }
  },
  "cells": [
    {
      "cell_type": "markdown",
      "metadata": {
        "id": "view-in-github",
        "colab_type": "text"
      },
      "source": [
        "<a href=\"https://colab.research.google.com/github/madhanmohans/Cross-Site-Scripting-Detection/blob/main/XSS_detection_%7C_Phase_1_work.ipynb\" target=\"_parent\"><img src=\"https://colab.research.google.com/assets/colab-badge.svg\" alt=\"Open In Colab\"/></a>"
      ]
    },
    {
      "cell_type": "code",
      "execution_count": 3,
      "metadata": {
        "id": "OeN8EWygrlTx"
      },
      "outputs": [],
      "source": [
        "import io\n",
        "import sklearn\n",
        "import numpy as np\n",
        "import pandas as pd\n",
        "import seaborn as sns\n",
        "from sklearn.svm import SVC\n",
        "import matplotlib.pyplot as plt\n",
        "from sklearn import preprocessing\n",
        "from sklearn import model_selection\n",
        "from sklearn.naive_bayes import GaussianNB\n",
        "from sklearn.tree import DecisionTreeClassifier\n",
        "from sklearn.neighbors import KNeighborsClassifier\n",
        "from sklearn.linear_model import LogisticRegression\n",
        "from sklearn.discriminant_analysis import LinearDiscriminantAnalysis"
      ]
    },
    {
      "cell_type": "code",
      "source": [
        "df = pd.read_csv(\"/content/XSSDataset.csv\")"
      ],
      "metadata": {
        "id": "i1_d1DKrteGK",
        "colab": {
          "base_uri": "https://localhost:8080/"
        },
        "outputId": "a85da41d-029c-485e-b06a-aa45b7ff8354"
      },
      "execution_count": 4,
      "outputs": [
        {
          "output_type": "stream",
          "name": "stderr",
          "text": [
            "/usr/local/lib/python3.8/dist-packages/IPython/core/interactiveshell.py:3326: DtypeWarning: Columns (0,1,2,3,4,5,6,7,8,9,10,11,12,13,14,15,16,17,18,19,20,21,22,23,24,25,26,27,28,29,30,31,32,33,34,35,36,37,38,46) have mixed types.Specify dtype option on import or set low_memory=False.\n",
            "  exec(code_obj, self.user_global_ns, self.user_ns)\n"
          ]
        }
      ]
    },
    {
      "cell_type": "code",
      "source": [
        "df.head()"
      ],
      "metadata": {
        "colab": {
          "base_uri": "https://localhost:8080/",
          "height": 334
        },
        "id": "ePlng-lNDZU8",
        "outputId": "3f40ad9c-8656-42bc-99de-6c63ad60199b"
      },
      "execution_count": 5,
      "outputs": [
        {
          "output_type": "execute_result",
          "data": {
            "text/plain": [
              "  Contains &lt Contains &rt Contains Script Contains And Contains Percentage  \\\n",
              "0            1            1               1            0                   1   \n",
              "1            1            1               1            1                   1   \n",
              "2            1            1               0            1                   1   \n",
              "3            1            1               1            1                   1   \n",
              "4            1            1               1            1                   1   \n",
              "\n",
              "  Contains BackSlash Contains Plus Contains Document Contains Onerror  \\\n",
              "0                  0             0                 1                0   \n",
              "1                  0             0                 1                0   \n",
              "2                  0             0                 0                0   \n",
              "3                  1             0                 0                0   \n",
              "4                  0             0                 1                0   \n",
              "\n",
              "  Contains DIV  ... Contains Space Contains Break Line      Class Unnamed: 40  \\\n",
              "0            0  ...              0                   1  Malicious         NaN   \n",
              "1            0  ...              0                   1  Malicious         NaN   \n",
              "2            0  ...              0                   1  Malicious         NaN   \n",
              "3            0  ...              0                   1  Malicious         NaN   \n",
              "4            0  ...              0                   1  Malicious         NaN   \n",
              "\n",
              "  Unnamed: 41 Unnamed: 42 Unnamed: 43 Unnamed: 44 Unnamed: 45 Unnamed: 46  \n",
              "0         NaN         NaN         NaN         NaN         NaN         NaN  \n",
              "1         NaN         NaN         NaN         NaN         NaN         NaN  \n",
              "2         NaN         NaN         NaN         NaN         NaN         NaN  \n",
              "3         NaN         NaN         NaN         NaN         NaN         NaN  \n",
              "4         NaN         NaN         NaN         NaN         NaN         NaN  \n",
              "\n",
              "[5 rows x 47 columns]"
            ],
            "text/html": [
              "\n",
              "  <div id=\"df-ea95403a-1418-4bed-b675-74ad4225d6bc\">\n",
              "    <div class=\"colab-df-container\">\n",
              "      <div>\n",
              "<style scoped>\n",
              "    .dataframe tbody tr th:only-of-type {\n",
              "        vertical-align: middle;\n",
              "    }\n",
              "\n",
              "    .dataframe tbody tr th {\n",
              "        vertical-align: top;\n",
              "    }\n",
              "\n",
              "    .dataframe thead th {\n",
              "        text-align: right;\n",
              "    }\n",
              "</style>\n",
              "<table border=\"1\" class=\"dataframe\">\n",
              "  <thead>\n",
              "    <tr style=\"text-align: right;\">\n",
              "      <th></th>\n",
              "      <th>Contains &amp;lt</th>\n",
              "      <th>Contains &amp;rt</th>\n",
              "      <th>Contains Script</th>\n",
              "      <th>Contains And</th>\n",
              "      <th>Contains Percentage</th>\n",
              "      <th>Contains BackSlash</th>\n",
              "      <th>Contains Plus</th>\n",
              "      <th>Contains Document</th>\n",
              "      <th>Contains Onerror</th>\n",
              "      <th>Contains DIV</th>\n",
              "      <th>...</th>\n",
              "      <th>Contains Space</th>\n",
              "      <th>Contains Break Line</th>\n",
              "      <th>Class</th>\n",
              "      <th>Unnamed: 40</th>\n",
              "      <th>Unnamed: 41</th>\n",
              "      <th>Unnamed: 42</th>\n",
              "      <th>Unnamed: 43</th>\n",
              "      <th>Unnamed: 44</th>\n",
              "      <th>Unnamed: 45</th>\n",
              "      <th>Unnamed: 46</th>\n",
              "    </tr>\n",
              "  </thead>\n",
              "  <tbody>\n",
              "    <tr>\n",
              "      <th>0</th>\n",
              "      <td>1</td>\n",
              "      <td>1</td>\n",
              "      <td>1</td>\n",
              "      <td>0</td>\n",
              "      <td>1</td>\n",
              "      <td>0</td>\n",
              "      <td>0</td>\n",
              "      <td>1</td>\n",
              "      <td>0</td>\n",
              "      <td>0</td>\n",
              "      <td>...</td>\n",
              "      <td>0</td>\n",
              "      <td>1</td>\n",
              "      <td>Malicious</td>\n",
              "      <td>NaN</td>\n",
              "      <td>NaN</td>\n",
              "      <td>NaN</td>\n",
              "      <td>NaN</td>\n",
              "      <td>NaN</td>\n",
              "      <td>NaN</td>\n",
              "      <td>NaN</td>\n",
              "    </tr>\n",
              "    <tr>\n",
              "      <th>1</th>\n",
              "      <td>1</td>\n",
              "      <td>1</td>\n",
              "      <td>1</td>\n",
              "      <td>1</td>\n",
              "      <td>1</td>\n",
              "      <td>0</td>\n",
              "      <td>0</td>\n",
              "      <td>1</td>\n",
              "      <td>0</td>\n",
              "      <td>0</td>\n",
              "      <td>...</td>\n",
              "      <td>0</td>\n",
              "      <td>1</td>\n",
              "      <td>Malicious</td>\n",
              "      <td>NaN</td>\n",
              "      <td>NaN</td>\n",
              "      <td>NaN</td>\n",
              "      <td>NaN</td>\n",
              "      <td>NaN</td>\n",
              "      <td>NaN</td>\n",
              "      <td>NaN</td>\n",
              "    </tr>\n",
              "    <tr>\n",
              "      <th>2</th>\n",
              "      <td>1</td>\n",
              "      <td>1</td>\n",
              "      <td>0</td>\n",
              "      <td>1</td>\n",
              "      <td>1</td>\n",
              "      <td>0</td>\n",
              "      <td>0</td>\n",
              "      <td>0</td>\n",
              "      <td>0</td>\n",
              "      <td>0</td>\n",
              "      <td>...</td>\n",
              "      <td>0</td>\n",
              "      <td>1</td>\n",
              "      <td>Malicious</td>\n",
              "      <td>NaN</td>\n",
              "      <td>NaN</td>\n",
              "      <td>NaN</td>\n",
              "      <td>NaN</td>\n",
              "      <td>NaN</td>\n",
              "      <td>NaN</td>\n",
              "      <td>NaN</td>\n",
              "    </tr>\n",
              "    <tr>\n",
              "      <th>3</th>\n",
              "      <td>1</td>\n",
              "      <td>1</td>\n",
              "      <td>1</td>\n",
              "      <td>1</td>\n",
              "      <td>1</td>\n",
              "      <td>1</td>\n",
              "      <td>0</td>\n",
              "      <td>0</td>\n",
              "      <td>0</td>\n",
              "      <td>0</td>\n",
              "      <td>...</td>\n",
              "      <td>0</td>\n",
              "      <td>1</td>\n",
              "      <td>Malicious</td>\n",
              "      <td>NaN</td>\n",
              "      <td>NaN</td>\n",
              "      <td>NaN</td>\n",
              "      <td>NaN</td>\n",
              "      <td>NaN</td>\n",
              "      <td>NaN</td>\n",
              "      <td>NaN</td>\n",
              "    </tr>\n",
              "    <tr>\n",
              "      <th>4</th>\n",
              "      <td>1</td>\n",
              "      <td>1</td>\n",
              "      <td>1</td>\n",
              "      <td>1</td>\n",
              "      <td>1</td>\n",
              "      <td>0</td>\n",
              "      <td>0</td>\n",
              "      <td>1</td>\n",
              "      <td>0</td>\n",
              "      <td>0</td>\n",
              "      <td>...</td>\n",
              "      <td>0</td>\n",
              "      <td>1</td>\n",
              "      <td>Malicious</td>\n",
              "      <td>NaN</td>\n",
              "      <td>NaN</td>\n",
              "      <td>NaN</td>\n",
              "      <td>NaN</td>\n",
              "      <td>NaN</td>\n",
              "      <td>NaN</td>\n",
              "      <td>NaN</td>\n",
              "    </tr>\n",
              "  </tbody>\n",
              "</table>\n",
              "<p>5 rows × 47 columns</p>\n",
              "</div>\n",
              "      <button class=\"colab-df-convert\" onclick=\"convertToInteractive('df-ea95403a-1418-4bed-b675-74ad4225d6bc')\"\n",
              "              title=\"Convert this dataframe to an interactive table.\"\n",
              "              style=\"display:none;\">\n",
              "        \n",
              "  <svg xmlns=\"http://www.w3.org/2000/svg\" height=\"24px\"viewBox=\"0 0 24 24\"\n",
              "       width=\"24px\">\n",
              "    <path d=\"M0 0h24v24H0V0z\" fill=\"none\"/>\n",
              "    <path d=\"M18.56 5.44l.94 2.06.94-2.06 2.06-.94-2.06-.94-.94-2.06-.94 2.06-2.06.94zm-11 1L8.5 8.5l.94-2.06 2.06-.94-2.06-.94L8.5 2.5l-.94 2.06-2.06.94zm10 10l.94 2.06.94-2.06 2.06-.94-2.06-.94-.94-2.06-.94 2.06-2.06.94z\"/><path d=\"M17.41 7.96l-1.37-1.37c-.4-.4-.92-.59-1.43-.59-.52 0-1.04.2-1.43.59L10.3 9.45l-7.72 7.72c-.78.78-.78 2.05 0 2.83L4 21.41c.39.39.9.59 1.41.59.51 0 1.02-.2 1.41-.59l7.78-7.78 2.81-2.81c.8-.78.8-2.07 0-2.86zM5.41 20L4 18.59l7.72-7.72 1.47 1.35L5.41 20z\"/>\n",
              "  </svg>\n",
              "      </button>\n",
              "      \n",
              "  <style>\n",
              "    .colab-df-container {\n",
              "      display:flex;\n",
              "      flex-wrap:wrap;\n",
              "      gap: 12px;\n",
              "    }\n",
              "\n",
              "    .colab-df-convert {\n",
              "      background-color: #E8F0FE;\n",
              "      border: none;\n",
              "      border-radius: 50%;\n",
              "      cursor: pointer;\n",
              "      display: none;\n",
              "      fill: #1967D2;\n",
              "      height: 32px;\n",
              "      padding: 0 0 0 0;\n",
              "      width: 32px;\n",
              "    }\n",
              "\n",
              "    .colab-df-convert:hover {\n",
              "      background-color: #E2EBFA;\n",
              "      box-shadow: 0px 1px 2px rgba(60, 64, 67, 0.3), 0px 1px 3px 1px rgba(60, 64, 67, 0.15);\n",
              "      fill: #174EA6;\n",
              "    }\n",
              "\n",
              "    [theme=dark] .colab-df-convert {\n",
              "      background-color: #3B4455;\n",
              "      fill: #D2E3FC;\n",
              "    }\n",
              "\n",
              "    [theme=dark] .colab-df-convert:hover {\n",
              "      background-color: #434B5C;\n",
              "      box-shadow: 0px 1px 3px 1px rgba(0, 0, 0, 0.15);\n",
              "      filter: drop-shadow(0px 1px 2px rgba(0, 0, 0, 0.3));\n",
              "      fill: #FFFFFF;\n",
              "    }\n",
              "  </style>\n",
              "\n",
              "      <script>\n",
              "        const buttonEl =\n",
              "          document.querySelector('#df-ea95403a-1418-4bed-b675-74ad4225d6bc button.colab-df-convert');\n",
              "        buttonEl.style.display =\n",
              "          google.colab.kernel.accessAllowed ? 'block' : 'none';\n",
              "\n",
              "        async function convertToInteractive(key) {\n",
              "          const element = document.querySelector('#df-ea95403a-1418-4bed-b675-74ad4225d6bc');\n",
              "          const dataTable =\n",
              "            await google.colab.kernel.invokeFunction('convertToInteractive',\n",
              "                                                     [key], {});\n",
              "          if (!dataTable) return;\n",
              "\n",
              "          const docLinkHtml = 'Like what you see? Visit the ' +\n",
              "            '<a target=\"_blank\" href=https://colab.research.google.com/notebooks/data_table.ipynb>data table notebook</a>'\n",
              "            + ' to learn more about interactive tables.';\n",
              "          element.innerHTML = '';\n",
              "          dataTable['output_type'] = 'display_data';\n",
              "          await google.colab.output.renderOutput(dataTable, element);\n",
              "          const docLink = document.createElement('div');\n",
              "          docLink.innerHTML = docLinkHtml;\n",
              "          element.appendChild(docLink);\n",
              "        }\n",
              "      </script>\n",
              "    </div>\n",
              "  </div>\n",
              "  "
            ]
          },
          "metadata": {},
          "execution_count": 5
        }
      ]
    },
    {
      "cell_type": "code",
      "source": [
        "df = df.loc[:, ~df.columns.str.match('Unnamed')]"
      ],
      "metadata": {
        "id": "m7A6We5zr5wr"
      },
      "execution_count": 6,
      "outputs": []
    },
    {
      "cell_type": "code",
      "source": [
        "df.head()"
      ],
      "metadata": {
        "colab": {
          "base_uri": "https://localhost:8080/",
          "height": 334
        },
        "id": "605k9aPjDjlY",
        "outputId": "373efcdb-d5b6-488f-92e6-145ef84ec099"
      },
      "execution_count": 7,
      "outputs": [
        {
          "output_type": "execute_result",
          "data": {
            "text/plain": [
              "  Contains &lt Contains &rt Contains Script Contains And Contains Percentage  \\\n",
              "0            1            1               1            0                   1   \n",
              "1            1            1               1            1                   1   \n",
              "2            1            1               0            1                   1   \n",
              "3            1            1               1            1                   1   \n",
              "4            1            1               1            1                   1   \n",
              "\n",
              "  Contains BackSlash Contains Plus Contains Document Contains Onerror  \\\n",
              "0                  0             0                 1                0   \n",
              "1                  0             0                 1                0   \n",
              "2                  0             0                 0                0   \n",
              "3                  1             0                 0                0   \n",
              "4                  0             0                 1                0   \n",
              "\n",
              "  Contains DIV  ... Contains Underscore Contains location Contains Search  \\\n",
              "0            0  ...                   1                 0               1   \n",
              "1            0  ...                   1                 0               1   \n",
              "2            0  ...                   1                 0               0   \n",
              "3            0  ...                   1                 0               0   \n",
              "4            0  ...                   1                 0               1   \n",
              "\n",
              "  Contains &# Contains Open Brace Contains Close Brace Contains tilde  \\\n",
              "0           0                   0                    0              0   \n",
              "1           0                   0                    0              0   \n",
              "2           0                   0                    0              0   \n",
              "3           0                   0                    0              0   \n",
              "4           0                   0                    0              0   \n",
              "\n",
              "  Contains Space Contains Break Line      Class  \n",
              "0              0                   1  Malicious  \n",
              "1              0                   1  Malicious  \n",
              "2              0                   1  Malicious  \n",
              "3              0                   1  Malicious  \n",
              "4              0                   1  Malicious  \n",
              "\n",
              "[5 rows x 40 columns]"
            ],
            "text/html": [
              "\n",
              "  <div id=\"df-b7ad0965-06d6-4026-a21c-4dfa8747e120\">\n",
              "    <div class=\"colab-df-container\">\n",
              "      <div>\n",
              "<style scoped>\n",
              "    .dataframe tbody tr th:only-of-type {\n",
              "        vertical-align: middle;\n",
              "    }\n",
              "\n",
              "    .dataframe tbody tr th {\n",
              "        vertical-align: top;\n",
              "    }\n",
              "\n",
              "    .dataframe thead th {\n",
              "        text-align: right;\n",
              "    }\n",
              "</style>\n",
              "<table border=\"1\" class=\"dataframe\">\n",
              "  <thead>\n",
              "    <tr style=\"text-align: right;\">\n",
              "      <th></th>\n",
              "      <th>Contains &amp;lt</th>\n",
              "      <th>Contains &amp;rt</th>\n",
              "      <th>Contains Script</th>\n",
              "      <th>Contains And</th>\n",
              "      <th>Contains Percentage</th>\n",
              "      <th>Contains BackSlash</th>\n",
              "      <th>Contains Plus</th>\n",
              "      <th>Contains Document</th>\n",
              "      <th>Contains Onerror</th>\n",
              "      <th>Contains DIV</th>\n",
              "      <th>...</th>\n",
              "      <th>Contains Underscore</th>\n",
              "      <th>Contains location</th>\n",
              "      <th>Contains Search</th>\n",
              "      <th>Contains &amp;#</th>\n",
              "      <th>Contains Open Brace</th>\n",
              "      <th>Contains Close Brace</th>\n",
              "      <th>Contains tilde</th>\n",
              "      <th>Contains Space</th>\n",
              "      <th>Contains Break Line</th>\n",
              "      <th>Class</th>\n",
              "    </tr>\n",
              "  </thead>\n",
              "  <tbody>\n",
              "    <tr>\n",
              "      <th>0</th>\n",
              "      <td>1</td>\n",
              "      <td>1</td>\n",
              "      <td>1</td>\n",
              "      <td>0</td>\n",
              "      <td>1</td>\n",
              "      <td>0</td>\n",
              "      <td>0</td>\n",
              "      <td>1</td>\n",
              "      <td>0</td>\n",
              "      <td>0</td>\n",
              "      <td>...</td>\n",
              "      <td>1</td>\n",
              "      <td>0</td>\n",
              "      <td>1</td>\n",
              "      <td>0</td>\n",
              "      <td>0</td>\n",
              "      <td>0</td>\n",
              "      <td>0</td>\n",
              "      <td>0</td>\n",
              "      <td>1</td>\n",
              "      <td>Malicious</td>\n",
              "    </tr>\n",
              "    <tr>\n",
              "      <th>1</th>\n",
              "      <td>1</td>\n",
              "      <td>1</td>\n",
              "      <td>1</td>\n",
              "      <td>1</td>\n",
              "      <td>1</td>\n",
              "      <td>0</td>\n",
              "      <td>0</td>\n",
              "      <td>1</td>\n",
              "      <td>0</td>\n",
              "      <td>0</td>\n",
              "      <td>...</td>\n",
              "      <td>1</td>\n",
              "      <td>0</td>\n",
              "      <td>1</td>\n",
              "      <td>0</td>\n",
              "      <td>0</td>\n",
              "      <td>0</td>\n",
              "      <td>0</td>\n",
              "      <td>0</td>\n",
              "      <td>1</td>\n",
              "      <td>Malicious</td>\n",
              "    </tr>\n",
              "    <tr>\n",
              "      <th>2</th>\n",
              "      <td>1</td>\n",
              "      <td>1</td>\n",
              "      <td>0</td>\n",
              "      <td>1</td>\n",
              "      <td>1</td>\n",
              "      <td>0</td>\n",
              "      <td>0</td>\n",
              "      <td>0</td>\n",
              "      <td>0</td>\n",
              "      <td>0</td>\n",
              "      <td>...</td>\n",
              "      <td>1</td>\n",
              "      <td>0</td>\n",
              "      <td>0</td>\n",
              "      <td>0</td>\n",
              "      <td>0</td>\n",
              "      <td>0</td>\n",
              "      <td>0</td>\n",
              "      <td>0</td>\n",
              "      <td>1</td>\n",
              "      <td>Malicious</td>\n",
              "    </tr>\n",
              "    <tr>\n",
              "      <th>3</th>\n",
              "      <td>1</td>\n",
              "      <td>1</td>\n",
              "      <td>1</td>\n",
              "      <td>1</td>\n",
              "      <td>1</td>\n",
              "      <td>1</td>\n",
              "      <td>0</td>\n",
              "      <td>0</td>\n",
              "      <td>0</td>\n",
              "      <td>0</td>\n",
              "      <td>...</td>\n",
              "      <td>1</td>\n",
              "      <td>0</td>\n",
              "      <td>0</td>\n",
              "      <td>0</td>\n",
              "      <td>0</td>\n",
              "      <td>0</td>\n",
              "      <td>0</td>\n",
              "      <td>0</td>\n",
              "      <td>1</td>\n",
              "      <td>Malicious</td>\n",
              "    </tr>\n",
              "    <tr>\n",
              "      <th>4</th>\n",
              "      <td>1</td>\n",
              "      <td>1</td>\n",
              "      <td>1</td>\n",
              "      <td>1</td>\n",
              "      <td>1</td>\n",
              "      <td>0</td>\n",
              "      <td>0</td>\n",
              "      <td>1</td>\n",
              "      <td>0</td>\n",
              "      <td>0</td>\n",
              "      <td>...</td>\n",
              "      <td>1</td>\n",
              "      <td>0</td>\n",
              "      <td>1</td>\n",
              "      <td>0</td>\n",
              "      <td>0</td>\n",
              "      <td>0</td>\n",
              "      <td>0</td>\n",
              "      <td>0</td>\n",
              "      <td>1</td>\n",
              "      <td>Malicious</td>\n",
              "    </tr>\n",
              "  </tbody>\n",
              "</table>\n",
              "<p>5 rows × 40 columns</p>\n",
              "</div>\n",
              "      <button class=\"colab-df-convert\" onclick=\"convertToInteractive('df-b7ad0965-06d6-4026-a21c-4dfa8747e120')\"\n",
              "              title=\"Convert this dataframe to an interactive table.\"\n",
              "              style=\"display:none;\">\n",
              "        \n",
              "  <svg xmlns=\"http://www.w3.org/2000/svg\" height=\"24px\"viewBox=\"0 0 24 24\"\n",
              "       width=\"24px\">\n",
              "    <path d=\"M0 0h24v24H0V0z\" fill=\"none\"/>\n",
              "    <path d=\"M18.56 5.44l.94 2.06.94-2.06 2.06-.94-2.06-.94-.94-2.06-.94 2.06-2.06.94zm-11 1L8.5 8.5l.94-2.06 2.06-.94-2.06-.94L8.5 2.5l-.94 2.06-2.06.94zm10 10l.94 2.06.94-2.06 2.06-.94-2.06-.94-.94-2.06-.94 2.06-2.06.94z\"/><path d=\"M17.41 7.96l-1.37-1.37c-.4-.4-.92-.59-1.43-.59-.52 0-1.04.2-1.43.59L10.3 9.45l-7.72 7.72c-.78.78-.78 2.05 0 2.83L4 21.41c.39.39.9.59 1.41.59.51 0 1.02-.2 1.41-.59l7.78-7.78 2.81-2.81c.8-.78.8-2.07 0-2.86zM5.41 20L4 18.59l7.72-7.72 1.47 1.35L5.41 20z\"/>\n",
              "  </svg>\n",
              "      </button>\n",
              "      \n",
              "  <style>\n",
              "    .colab-df-container {\n",
              "      display:flex;\n",
              "      flex-wrap:wrap;\n",
              "      gap: 12px;\n",
              "    }\n",
              "\n",
              "    .colab-df-convert {\n",
              "      background-color: #E8F0FE;\n",
              "      border: none;\n",
              "      border-radius: 50%;\n",
              "      cursor: pointer;\n",
              "      display: none;\n",
              "      fill: #1967D2;\n",
              "      height: 32px;\n",
              "      padding: 0 0 0 0;\n",
              "      width: 32px;\n",
              "    }\n",
              "\n",
              "    .colab-df-convert:hover {\n",
              "      background-color: #E2EBFA;\n",
              "      box-shadow: 0px 1px 2px rgba(60, 64, 67, 0.3), 0px 1px 3px 1px rgba(60, 64, 67, 0.15);\n",
              "      fill: #174EA6;\n",
              "    }\n",
              "\n",
              "    [theme=dark] .colab-df-convert {\n",
              "      background-color: #3B4455;\n",
              "      fill: #D2E3FC;\n",
              "    }\n",
              "\n",
              "    [theme=dark] .colab-df-convert:hover {\n",
              "      background-color: #434B5C;\n",
              "      box-shadow: 0px 1px 3px 1px rgba(0, 0, 0, 0.15);\n",
              "      filter: drop-shadow(0px 1px 2px rgba(0, 0, 0, 0.3));\n",
              "      fill: #FFFFFF;\n",
              "    }\n",
              "  </style>\n",
              "\n",
              "      <script>\n",
              "        const buttonEl =\n",
              "          document.querySelector('#df-b7ad0965-06d6-4026-a21c-4dfa8747e120 button.colab-df-convert');\n",
              "        buttonEl.style.display =\n",
              "          google.colab.kernel.accessAllowed ? 'block' : 'none';\n",
              "\n",
              "        async function convertToInteractive(key) {\n",
              "          const element = document.querySelector('#df-b7ad0965-06d6-4026-a21c-4dfa8747e120');\n",
              "          const dataTable =\n",
              "            await google.colab.kernel.invokeFunction('convertToInteractive',\n",
              "                                                     [key], {});\n",
              "          if (!dataTable) return;\n",
              "\n",
              "          const docLinkHtml = 'Like what you see? Visit the ' +\n",
              "            '<a target=\"_blank\" href=https://colab.research.google.com/notebooks/data_table.ipynb>data table notebook</a>'\n",
              "            + ' to learn more about interactive tables.';\n",
              "          element.innerHTML = '';\n",
              "          dataTable['output_type'] = 'display_data';\n",
              "          await google.colab.output.renderOutput(dataTable, element);\n",
              "          const docLink = document.createElement('div');\n",
              "          docLink.innerHTML = docLinkHtml;\n",
              "          element.appendChild(docLink);\n",
              "        }\n",
              "      </script>\n",
              "    </div>\n",
              "  </div>\n",
              "  "
            ]
          },
          "metadata": {},
          "execution_count": 7
        }
      ]
    },
    {
      "cell_type": "code",
      "source": [
        "pd.isnull(df).sum()"
      ],
      "metadata": {
        "colab": {
          "base_uri": "https://localhost:8080/"
        },
        "id": "XEZ3ntRRqTCR",
        "outputId": "2d49043b-3a37-4f4e-a8c3-53a264009eba"
      },
      "execution_count": 8,
      "outputs": [
        {
          "output_type": "execute_result",
          "data": {
            "text/plain": [
              "Contains &lt                  2\n",
              "Contains &rt                  2\n",
              "Contains Script               2\n",
              "Contains And                  2\n",
              "Contains Percentage           2\n",
              "Contains BackSlash            2\n",
              "Contains Plus                 2\n",
              "Contains Document             2\n",
              "Contains Onerror              2\n",
              "Contains DIV                  2\n",
              "Contains iframe               2\n",
              "Contains img                  2\n",
              "Contains SRC                  2\n",
              "Contains Var                  2\n",
              "Contains Eval                 2\n",
              "Contains href                 2\n",
              "Contains Cookie               2\n",
              "Contains Single Quote         2\n",
              "Contains Question Mark        2\n",
              "Contains Exclamation Mark     2\n",
              "Contains HTTPS                2\n",
              "Contains JS                   2\n",
              "Contains Hash                 2\n",
              "Contains Equal                2\n",
              "Contains Open Parenthesis     2\n",
              "Contains Close Parenthesis    2\n",
              "Contains Asterisk             2\n",
              "Contains Comma                2\n",
              "Contains Hyphen               2\n",
              "Contains At                   2\n",
              "Contains Underscore           2\n",
              "Contains location             2\n",
              "Contains Search               2\n",
              "Contains &#                   2\n",
              "Contains Open Brace           2\n",
              "Contains Close Brace          2\n",
              "Contains tilde                2\n",
              "Contains Space                2\n",
              "Contains Break Line           2\n",
              "Class                         2\n",
              "dtype: int64"
            ]
          },
          "metadata": {},
          "execution_count": 8
        }
      ]
    },
    {
      "cell_type": "code",
      "source": [
        "df = df.dropna()"
      ],
      "metadata": {
        "id": "lsidZitn5qAe"
      },
      "execution_count": 9,
      "outputs": []
    },
    {
      "cell_type": "code",
      "source": [
        "pd.isnull(df).sum()"
      ],
      "metadata": {
        "colab": {
          "base_uri": "https://localhost:8080/"
        },
        "id": "slmxKu5V5tD7",
        "outputId": "f0ffbcc5-d503-48cb-ed10-51c6015aca87"
      },
      "execution_count": 10,
      "outputs": [
        {
          "output_type": "execute_result",
          "data": {
            "text/plain": [
              "Contains &lt                  0\n",
              "Contains &rt                  0\n",
              "Contains Script               0\n",
              "Contains And                  0\n",
              "Contains Percentage           0\n",
              "Contains BackSlash            0\n",
              "Contains Plus                 0\n",
              "Contains Document             0\n",
              "Contains Onerror              0\n",
              "Contains DIV                  0\n",
              "Contains iframe               0\n",
              "Contains img                  0\n",
              "Contains SRC                  0\n",
              "Contains Var                  0\n",
              "Contains Eval                 0\n",
              "Contains href                 0\n",
              "Contains Cookie               0\n",
              "Contains Single Quote         0\n",
              "Contains Question Mark        0\n",
              "Contains Exclamation Mark     0\n",
              "Contains HTTPS                0\n",
              "Contains JS                   0\n",
              "Contains Hash                 0\n",
              "Contains Equal                0\n",
              "Contains Open Parenthesis     0\n",
              "Contains Close Parenthesis    0\n",
              "Contains Asterisk             0\n",
              "Contains Comma                0\n",
              "Contains Hyphen               0\n",
              "Contains At                   0\n",
              "Contains Underscore           0\n",
              "Contains location             0\n",
              "Contains Search               0\n",
              "Contains &#                   0\n",
              "Contains Open Brace           0\n",
              "Contains Close Brace          0\n",
              "Contains tilde                0\n",
              "Contains Space                0\n",
              "Contains Break Line           0\n",
              "Class                         0\n",
              "dtype: int64"
            ]
          },
          "metadata": {},
          "execution_count": 10
        }
      ]
    },
    {
      "cell_type": "code",
      "source": [
        "df['Contains &rt'].unique()"
      ],
      "metadata": {
        "colab": {
          "base_uri": "https://localhost:8080/"
        },
        "id": "c3d5T7nNEX8e",
        "outputId": "35437b4e-d6a4-40d1-c2c1-84544863493c"
      },
      "execution_count": 11,
      "outputs": [
        {
          "output_type": "execute_result",
          "data": {
            "text/plain": [
              "array([1, 0, '0', '1', '#ERROR!',\n",
              "       ' ?�?�?� ?�?�?�?�?� ?�?�?�?� ?�?�?�???�?�?�?� ???�???�?�?�?�?�?�?� ?�?�?�?�?�?�?�?�?�.\\\\\"\"; i18n[\\\\\"\"open for editing in a new tab\\\\\"\"] = \\\\\"\"?�?�?�???�?�?�?� ?�?�?? ?�?�?�?�?�?�?�?�?�?�?? ?� ?�?�?�?�?� ?�???�?�?�?�?�\\\\\"\"; i18n[\\\\\"\"editor option\\\\\"\"] = \\\\\"\"?????�?�?� ?�?�?�?�???�?�?�?�\\\\\"\"; i18n[\\\\\"\"choose a theme\\\\\"\"] = \\\\\"\"?�?�?�?�?�?�?�?� ?�?�?�?�\\\\\"\"; i18n[\\\\\"\"no theme\\\\\"\"] = \\\\\"\"?�?�?� ?�?�?�?�\\\\\"\"; i18n[\\\\\"\"default theme\\\\\"\"] = \\\\\"\"?�?�?�?� ?�?� ???�?�?�?�?�?�?�?�?�???�\\\\\"\"; /* i18n[\\\\\"\"cobalt\\\\\"\"] = \\\\\"\"cobalt\\\\\"\"; i18n[\\\\\"\"eclipse\\\\\"\"] = \\\\\"\"eclipse\\\\\"\"; i18n[\\\\\"\"elegant\\\\\"\"] = \\\\\"\"elegant\\\\\"\"; i18n[\\\\\"\"monokai\\\\\"\"] = \\\\\"\"monokai\\\\\"\"; i18n[\\\\\"\"neat\\\\\"\"] = \\\\\"\"neat\\\\\"\"; i18n[\\\\\"\"night\\\\\"\"] = \\\\\"\"night\\\\\"\"; i18n[\\\\\"\"rubyblue\\\\\"\"] = \\\\\"\"rubyblue\\\\\"\"; */// in file: ../../js/ui/component/editorconf.js i18n[\\\\\"\"main\\\\\"\"] = \\\\\"\"?�?�?�?�?�?�?�?�\\\\\"\"; i18n[\\\\\"\"module \\\\\\\\\\\\\"\"all files\\\\\\\\\\\\\"\"\\\\\"\"] = \\\\\"\"?�?�?�?�?�?� \\\\\\\\\\\\\"\"?�???� ?�?�?�?�?�\\\\\\\\\\\\\"\"\\\\\"\"; i18n[\\\\\"\"module \\\\\\\\\\\\\"\"files need translate\\\\\\\\\\\\\"\"\\\\\"\"] = \\\\\"\"?�?�?�?�?�?� \\\\\\\\\\\\\"\"?�?�?�?�?�'],\n",
              "      dtype=object)"
            ]
          },
          "metadata": {},
          "execution_count": 11
        }
      ]
    },
    {
      "cell_type": "code",
      "source": [
        "df.shape"
      ],
      "metadata": {
        "colab": {
          "base_uri": "https://localhost:8080/"
        },
        "id": "QToAGsquYFu3",
        "outputId": "b319d391-d352-4ac7-d3f9-2c0cbbb4f714"
      },
      "execution_count": 12,
      "outputs": [
        {
          "output_type": "execute_result",
          "data": {
            "text/plain": [
              "(43217, 40)"
            ]
          },
          "metadata": {},
          "execution_count": 12
        }
      ]
    },
    {
      "cell_type": "code",
      "source": [
        "# remove #ERROR!, #REF!, and other miscellaneous records\n",
        "ones_zeros = ['0', '1', 1 , 0]\n",
        "for column in df.loc[:, df.columns != 'Class']:\n",
        "  df.drop(df[(~df[column].isin(ones_zeros))].index, inplace=True)\n",
        "  df[column] = df[column].astype(int)\n",
        "  print(df[column].unique())"
      ],
      "metadata": {
        "id": "zhVGciDG9Gbv",
        "colab": {
          "base_uri": "https://localhost:8080/"
        },
        "outputId": "17481dec-d3fa-41ab-90b8-a89dcf77c1e0"
      },
      "execution_count": 13,
      "outputs": [
        {
          "output_type": "stream",
          "name": "stdout",
          "text": [
            "[1 0]\n",
            "[1 0]\n",
            "[1 0]\n",
            "[0 1]\n",
            "[1 0]\n",
            "[0 1]\n",
            "[0 1]\n",
            "[1 0]\n",
            "[0 1]\n",
            "[0 1]\n",
            "[0 1]\n",
            "[0 1]\n",
            "[0 1]\n",
            "[0 1]\n",
            "[0 1]\n",
            "[0 1]\n",
            "[1 0]\n",
            "[0 1]\n",
            "[1 0]\n",
            "[0 1]\n",
            "[0 1]\n",
            "[0 1]\n",
            "[0 1]\n",
            "[1 0]\n",
            "[0 1]\n",
            "[0 1]\n",
            "[0 1]\n",
            "[0 1]\n",
            "[0 1]\n",
            "[0 1]\n",
            "[1 0]\n",
            "[0 1]\n",
            "[1 0]\n",
            "[0 1]\n",
            "[0 1]\n",
            "[0 1]\n",
            "[0 1]\n",
            "[0 1]\n",
            "[1 0]\n"
          ]
        }
      ]
    },
    {
      "cell_type": "code",
      "source": [
        "df.shape"
      ],
      "metadata": {
        "colab": {
          "base_uri": "https://localhost:8080/"
        },
        "id": "OL4gBBnpYDFl",
        "outputId": "ea09bd79-d6dc-41cd-9a6e-19be001a691d"
      },
      "execution_count": 14,
      "outputs": [
        {
          "output_type": "execute_result",
          "data": {
            "text/plain": [
              "(43215, 40)"
            ]
          },
          "metadata": {},
          "execution_count": 14
        }
      ]
    },
    {
      "cell_type": "code",
      "source": [
        "df['Class'].unique()"
      ],
      "metadata": {
        "colab": {
          "base_uri": "https://localhost:8080/"
        },
        "id": "gxq6chULEATM",
        "outputId": "a28d2a61-24c0-44a5-9721-3a2452a5350a"
      },
      "execution_count": 15,
      "outputs": [
        {
          "output_type": "execute_result",
          "data": {
            "text/plain": [
              "array(['Malicious', 'Benign'], dtype=object)"
            ]
          },
          "metadata": {},
          "execution_count": 15
        }
      ]
    },
    {
      "cell_type": "code",
      "source": [
        "label_encoder = preprocessing.LabelEncoder()\n",
        "df['Class']= label_encoder.fit_transform(df['Class']) "
      ],
      "metadata": {
        "id": "iA9SoE3d_4cg"
      },
      "execution_count": 16,
      "outputs": []
    },
    {
      "cell_type": "code",
      "source": [
        "df['Class'].unique()"
      ],
      "metadata": {
        "colab": {
          "base_uri": "https://localhost:8080/"
        },
        "id": "7bzUgxu4ASLn",
        "outputId": "1dc5b7a7-1d6b-4701-cf11-ef43e736573f"
      },
      "execution_count": 17,
      "outputs": [
        {
          "output_type": "execute_result",
          "data": {
            "text/plain": [
              "array([1, 0])"
            ]
          },
          "metadata": {},
          "execution_count": 17
        }
      ]
    },
    {
      "cell_type": "code",
      "source": [
        "array = df.values\n",
        "\n",
        "X = array[0:,0:39]\n",
        "Y = array[:,39]\n",
        "# Y=Y.astype('int')"
      ],
      "metadata": {
        "id": "-FiDL9Hy5-It"
      },
      "execution_count": 18,
      "outputs": []
    },
    {
      "cell_type": "code",
      "source": [
        "print(\"X rows: \" , X)\n",
        "print(\"Y rows: \" , Y)"
      ],
      "metadata": {
        "colab": {
          "base_uri": "https://localhost:8080/"
        },
        "id": "q-1eEesFt77F",
        "outputId": "e5981085-6458-47b1-e2e1-4796bd35423c"
      },
      "execution_count": 19,
      "outputs": [
        {
          "output_type": "stream",
          "name": "stdout",
          "text": [
            "X rows:  [[1 1 1 ... 0 0 1]\n",
            " [1 1 1 ... 0 0 1]\n",
            " [1 1 0 ... 0 0 1]\n",
            " ...\n",
            " [0 0 1 ... 0 0 0]\n",
            " [0 0 1 ... 0 0 1]\n",
            " [0 0 1 ... 0 0 1]]\n",
            "Y rows:  [1 1 1 ... 1 1 1]\n"
          ]
        }
      ]
    },
    {
      "cell_type": "code",
      "source": [
        "print(X.dtype)\n",
        "print(Y.dtype)"
      ],
      "metadata": {
        "colab": {
          "base_uri": "https://localhost:8080/"
        },
        "id": "2_RhbjU86VPd",
        "outputId": "6c549077-b9d4-4a53-f262-ac298b575723"
      },
      "execution_count": 20,
      "outputs": [
        {
          "output_type": "stream",
          "name": "stdout",
          "text": [
            "int64\n",
            "int64\n"
          ]
        }
      ]
    },
    {
      "cell_type": "code",
      "source": [
        "from sklearn.feature_selection import mutual_info_classif as MIC\n",
        "mi_scores = MIC(X,Y)\n",
        "print(mi_scores)\n",
        "mi_scores.size"
      ],
      "metadata": {
        "colab": {
          "base_uri": "https://localhost:8080/"
        },
        "id": "JLP67hSTlqvy",
        "outputId": "0c00c5b0-1184-41c6-a3d4-3cac6c6dcc4d"
      },
      "execution_count": 21,
      "outputs": [
        {
          "output_type": "stream",
          "name": "stdout",
          "text": [
            "[2.36948654e-01 2.37065150e-01 3.71596704e-01 3.71144678e-03\n",
            " 6.57909863e-02 3.38416978e-04 1.13990256e-02 7.24450037e-02\n",
            " 4.55130118e-03 1.20940476e-03 1.36952579e-02 6.26060678e-03\n",
            " 3.49009236e-02 8.32745110e-03 4.01689755e-03 0.00000000e+00\n",
            " 7.97731477e-02 2.41670032e-03 2.29826870e-01 2.68773644e-02\n",
            " 9.00031512e-03 7.95334985e-03 1.30214633e-03 6.76024039e-02\n",
            " 1.20949540e-01 1.22571805e-01 8.00802582e-04 6.25596716e-02\n",
            " 4.04068859e-02 8.04936399e-04 3.79726651e-02 1.94830540e-02\n",
            " 7.71001452e-02 0.00000000e+00 7.19295977e-03 0.00000000e+00\n",
            " 7.13377329e-05 5.55056622e-02 3.95560722e-02]\n"
          ]
        },
        {
          "output_type": "execute_result",
          "data": {
            "text/plain": [
              "39"
            ]
          },
          "metadata": {},
          "execution_count": 21
        }
      ]
    },
    {
      "cell_type": "code",
      "source": [
        "models = []\n",
        "models.append(('Logistic Regression', LogisticRegression()))\n",
        "models.append(('Linear Discriminant Analysis', LinearDiscriminantAnalysis()))\n",
        "models.append(('Decision Tree', DecisionTreeClassifier()))\n",
        "models.append(('Naive Bayes', GaussianNB()))\n",
        "models.append(('Support Vector Machine', SVC()))\n",
        "models.append(('K-nearest Neighbors', KNeighborsClassifier()))"
      ],
      "metadata": {
        "id": "8-1zQYsVr_u2"
      },
      "execution_count": 49,
      "outputs": []
    },
    {
      "cell_type": "code",
      "source": [
        "from sklearn.preprocessing import LabelBinarizer\n",
        "\n",
        "results = []\n",
        "metrics = ['accuracy', 'precision', 'recall', 'f1']\n",
        "lb = LabelBinarizer()\n",
        "y_train = np.array([number[0] for number in lb.fit_transform(Y)])\n",
        "\n",
        "for name, model in models:\n",
        "  print(name)\n",
        "  for metric in metrics:\n",
        "    metricValue = model_selection.cross_val_score(model, X, y_train, cv=10, scoring=metric)\n",
        "    print(metric, \": \", np.mean(metricValue))\n",
        "    results.append(metricValue)"
      ],
      "metadata": {
        "id": "FSVOxaIWanrj"
      },
      "execution_count": null,
      "outputs": []
    },
    {
      "cell_type": "code",
      "source": [
        "names = []\n",
        "results = []\n",
        "scoring = 'accuracy' \n",
        "for name, model in models:\n",
        " kfold = model_selection.KFold(n_splits=10)\n",
        " cv_results = model_selection.cross_val_score(model, X, Y, cv=kfold, scoring=scoring)\n",
        " results.append(cv_results)\n",
        " names.append(name)\n",
        " msg = \"%s: %f (%f)\" % (name, cv_results.mean(), cv_results.std())\n",
        " print(msg)"
      ],
      "metadata": {
        "id": "P75-qM69VIhr",
        "colab": {
          "base_uri": "https://localhost:8080/"
        },
        "outputId": "b345bac5-31aa-4476-a658-97aed2ad883c"
      },
      "execution_count": 23,
      "outputs": [
        {
          "output_type": "stream",
          "name": "stdout",
          "text": [
            "LR: 0.968133 (0.058996)\n",
            "LDA: 0.956771 (0.067610)\n",
            "KNN: 0.963527 (0.081091)\n",
            "CART: 0.926615 (0.125185)\n",
            "NB: 0.935365 (0.106971)\n",
            "SVM: 0.931498 (0.116604)\n"
          ]
        }
      ]
    },
    {
      "cell_type": "code",
      "source": [
        "(np.unique(y_train, return_counts = True))"
      ],
      "metadata": {
        "colab": {
          "base_uri": "https://localhost:8080/"
        },
        "id": "PsMCt27Lb1q1",
        "outputId": "846c8006-8f4c-426e-8b53-cc6a22da481d"
      },
      "execution_count": 34,
      "outputs": [
        {
          "output_type": "execute_result",
          "data": {
            "text/plain": [
              "(array([0, 1]), array([28067, 15148]))"
            ]
          },
          "metadata": {},
          "execution_count": 34
        }
      ]
    },
    {
      "cell_type": "code",
      "source": [
        "fig = plt.figure()\n",
        "fig.suptitle('Algorithm Comparison')\n",
        "ax = fig.add_subplot(111)\n",
        "plt.boxplot(results)\n",
        "ax.set_xticklabels(names)\n",
        "plt.show()"
      ],
      "metadata": {
        "id": "RVkRwlyusFbV",
        "colab": {
          "base_uri": "https://localhost:8080/",
          "height": 294
        },
        "outputId": "65f496df-da1e-4aea-e54e-1affe1225571"
      },
      "execution_count": null,
      "outputs": [
        {
          "output_type": "display_data",
          "data": {
            "text/plain": [
              "<Figure size 432x288 with 1 Axes>"
            ],
            "image/png": "[encoded data removed]"
          },
          "metadata": {
            "needs_background": "light"
          }
        }
      ]
    }
  ]
}