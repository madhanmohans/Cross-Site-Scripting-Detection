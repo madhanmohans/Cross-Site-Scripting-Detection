{
  "nbformat": 4,
  "nbformat_minor": 0,
  "metadata": {
    "colab": {
      "provenance": [],
      "toc_visible": true,
      "authorship_tag": "ABX9TyMH7qZqb/xbzEgDOoAo17SW",
      "include_colab_link": true
    },
    "kernelspec": {
      "name": "python3",
      "display_name": "Python 3"
    },
    "language_info": {
      "name": "python"
    }
  },
  "cells": [
    {
      "cell_type": "markdown",
      "metadata": {
        "id": "view-in-github",
        "colab_type": "text"
      },
      "source": [
        "<a href=\"https://colab.research.google.com/github/madhanmohans/Cross-Site-Scripting-Detection/blob/main/XSS_detection_%7C_Phase_2_work.ipynb\" target=\"_parent\"><img src=\"https://colab.research.google.com/assets/colab-badge.svg\" alt=\"Open In Colab\"/></a>"
      ]
    },
    {
      "cell_type": "code",
      "source": [
        "import re\n",
        "import itertools\n",
        "import numpy as np\n",
        "import pandas as pd\n",
        "from nltk.util import ngrams\n",
        "import matplotlib.pyplot as plt\n",
        "from sklearn import preprocessing\n",
        "from tensorflow.keras.preprocessing.text import Tokenizer\n",
        "from tensorflow.keras.preprocessing.sequence import pad_sequences"
      ],
      "metadata": {
        "id": "ue7CsMbFBlYz"
      },
      "execution_count": null,
      "outputs": []
    },
    {
      "cell_type": "code",
      "execution_count": null,
      "metadata": {
        "id": "XB5AwWrJBMdd"
      },
      "outputs": [],
      "source": [
        "df = pd.read_csv(\"/content/Payloads.csv\", encoding=\"UTF-8\") # using UTF-8 encoding"
      ]
    },
    {
      "cell_type": "markdown",
      "source": [
        "# Data preprocessing"
      ],
      "metadata": {
        "id": "dA-TqFP3fC_q"
      }
    },
    {
      "cell_type": "code",
      "source": [
        "df.head()"
      ],
      "metadata": {
        "colab": {
          "base_uri": "https://localhost:8080/",
          "height": 206
        },
        "id": "vPG-c5P1DuOQ",
        "outputId": "3f40a8a8-c1c4-4f6a-ba7f-37e80d21f342"
      },
      "execution_count": null,
      "outputs": [
        {
          "output_type": "execute_result",
          "data": {
            "text/plain": [
              "                                            Payloads      Class\n",
              "0  http://www.nwce.gov.uk/search_process.php?keyw...  Malicious\n",
              "1  http://www.manchester.gov.uk/site/scripts/goog...  Malicious\n",
              "2  http://www.ldsmissions.com/us/index.php?action...  Malicious\n",
              "3  http://education.powys.gov.uk/english/adult_ed...  Malicious\n",
              "4  http://www.northwarks.gov.uk/site/scripts/goog...  Malicious"
            ],
            "text/html": [
              "\n",
              "  <div id=\"df-1f168200-f386-408b-91c7-d08eacd5a536\">\n",
              "    <div class=\"colab-df-container\">\n",
              "      <div>\n",
              "<style scoped>\n",
              "    .dataframe tbody tr th:only-of-type {\n",
              "        vertical-align: middle;\n",
              "    }\n",
              "\n",
              "    .dataframe tbody tr th {\n",
              "        vertical-align: top;\n",
              "    }\n",
              "\n",
              "    .dataframe thead th {\n",
              "        text-align: right;\n",
              "    }\n",
              "</style>\n",
              "<table border=\"1\" class=\"dataframe\">\n",
              "  <thead>\n",
              "    <tr style=\"text-align: right;\">\n",
              "      <th></th>\n",
              "      <th>Payloads</th>\n",
              "      <th>Class</th>\n",
              "    </tr>\n",
              "  </thead>\n",
              "  <tbody>\n",
              "    <tr>\n",
              "      <th>0</th>\n",
              "      <td>http://www.nwce.gov.uk/search_process.php?keyw...</td>\n",
              "      <td>Malicious</td>\n",
              "    </tr>\n",
              "    <tr>\n",
              "      <th>1</th>\n",
              "      <td>http://www.manchester.gov.uk/site/scripts/goog...</td>\n",
              "      <td>Malicious</td>\n",
              "    </tr>\n",
              "    <tr>\n",
              "      <th>2</th>\n",
              "      <td>http://www.ldsmissions.com/us/index.php?action...</td>\n",
              "      <td>Malicious</td>\n",
              "    </tr>\n",
              "    <tr>\n",
              "      <th>3</th>\n",
              "      <td>http://education.powys.gov.uk/english/adult_ed...</td>\n",
              "      <td>Malicious</td>\n",
              "    </tr>\n",
              "    <tr>\n",
              "      <th>4</th>\n",
              "      <td>http://www.northwarks.gov.uk/site/scripts/goog...</td>\n",
              "      <td>Malicious</td>\n",
              "    </tr>\n",
              "  </tbody>\n",
              "</table>\n",
              "</div>\n",
              "      <button class=\"colab-df-convert\" onclick=\"convertToInteractive('df-1f168200-f386-408b-91c7-d08eacd5a536')\"\n",
              "              title=\"Convert this dataframe to an interactive table.\"\n",
              "              style=\"display:none;\">\n",
              "        \n",
              "  <svg xmlns=\"http://www.w3.org/2000/svg\" height=\"24px\"viewBox=\"0 0 24 24\"\n",
              "       width=\"24px\">\n",
              "    <path d=\"M0 0h24v24H0V0z\" fill=\"none\"/>\n",
              "    <path d=\"M18.56 5.44l.94 2.06.94-2.06 2.06-.94-2.06-.94-.94-2.06-.94 2.06-2.06.94zm-11 1L8.5 8.5l.94-2.06 2.06-.94-2.06-.94L8.5 2.5l-.94 2.06-2.06.94zm10 10l.94 2.06.94-2.06 2.06-.94-2.06-.94-.94-2.06-.94 2.06-2.06.94z\"/><path d=\"M17.41 7.96l-1.37-1.37c-.4-.4-.92-.59-1.43-.59-.52 0-1.04.2-1.43.59L10.3 9.45l-7.72 7.72c-.78.78-.78 2.05 0 2.83L4 21.41c.39.39.9.59 1.41.59.51 0 1.02-.2 1.41-.59l7.78-7.78 2.81-2.81c.8-.78.8-2.07 0-2.86zM5.41 20L4 18.59l7.72-7.72 1.47 1.35L5.41 20z\"/>\n",
              "  </svg>\n",
              "      </button>\n",
              "      \n",
              "  <style>\n",
              "    .colab-df-container {\n",
              "      display:flex;\n",
              "      flex-wrap:wrap;\n",
              "      gap: 12px;\n",
              "    }\n",
              "\n",
              "    .colab-df-convert {\n",
              "      background-color: #E8F0FE;\n",
              "      border: none;\n",
              "      border-radius: 50%;\n",
              "      cursor: pointer;\n",
              "      display: none;\n",
              "      fill: #1967D2;\n",
              "      height: 32px;\n",
              "      padding: 0 0 0 0;\n",
              "      width: 32px;\n",
              "    }\n",
              "\n",
              "    .colab-df-convert:hover {\n",
              "      background-color: #E2EBFA;\n",
              "      box-shadow: 0px 1px 2px rgba(60, 64, 67, 0.3), 0px 1px 3px 1px rgba(60, 64, 67, 0.15);\n",
              "      fill: #174EA6;\n",
              "    }\n",
              "\n",
              "    [theme=dark] .colab-df-convert {\n",
              "      background-color: #3B4455;\n",
              "      fill: #D2E3FC;\n",
              "    }\n",
              "\n",
              "    [theme=dark] .colab-df-convert:hover {\n",
              "      background-color: #434B5C;\n",
              "      box-shadow: 0px 1px 3px 1px rgba(0, 0, 0, 0.15);\n",
              "      filter: drop-shadow(0px 1px 2px rgba(0, 0, 0, 0.3));\n",
              "      fill: #FFFFFF;\n",
              "    }\n",
              "  </style>\n",
              "\n",
              "      <script>\n",
              "        const buttonEl =\n",
              "          document.querySelector('#df-1f168200-f386-408b-91c7-d08eacd5a536 button.colab-df-convert');\n",
              "        buttonEl.style.display =\n",
              "          google.colab.kernel.accessAllowed ? 'block' : 'none';\n",
              "\n",
              "        async function convertToInteractive(key) {\n",
              "          const element = document.querySelector('#df-1f168200-f386-408b-91c7-d08eacd5a536');\n",
              "          const dataTable =\n",
              "            await google.colab.kernel.invokeFunction('convertToInteractive',\n",
              "                                                     [key], {});\n",
              "          if (!dataTable) return;\n",
              "\n",
              "          const docLinkHtml = 'Like what you see? Visit the ' +\n",
              "            '<a target=\"_blank\" href=https://colab.research.google.com/notebooks/data_table.ipynb>data table notebook</a>'\n",
              "            + ' to learn more about interactive tables.';\n",
              "          element.innerHTML = '';\n",
              "          dataTable['output_type'] = 'display_data';\n",
              "          await google.colab.output.renderOutput(dataTable, element);\n",
              "          const docLink = document.createElement('div');\n",
              "          docLink.innerHTML = docLinkHtml;\n",
              "          element.appendChild(docLink);\n",
              "        }\n",
              "      </script>\n",
              "    </div>\n",
              "  </div>\n",
              "  "
            ]
          },
          "metadata": {},
          "execution_count": 138
        }
      ]
    },
    {
      "cell_type": "code",
      "source": [
        "df.info()"
      ],
      "metadata": {
        "colab": {
          "base_uri": "https://localhost:8080/"
        },
        "id": "_hPCA37WkZTb",
        "outputId": "088d4508-ec4b-467a-e3a8-ed9b763c0f3b"
      },
      "execution_count": null,
      "outputs": [
        {
          "output_type": "stream",
          "name": "stdout",
          "text": [
            "<class 'pandas.core.frame.DataFrame'>\n",
            "RangeIndex: 43219 entries, 0 to 43218\n",
            "Data columns (total 2 columns):\n",
            " #   Column    Non-Null Count  Dtype \n",
            "---  ------    --------------  ----- \n",
            " 0   Payloads  43218 non-null  object\n",
            " 1   Class     43217 non-null  object\n",
            "dtypes: object(2)\n",
            "memory usage: 675.4+ KB\n"
          ]
        }
      ]
    },
    {
      "cell_type": "code",
      "source": [
        "df.shape"
      ],
      "metadata": {
        "colab": {
          "base_uri": "https://localhost:8080/"
        },
        "id": "VEA3tYqde9Gk",
        "outputId": "8ae7ae84-a8e6-4360-c440-025135b264a6"
      },
      "execution_count": null,
      "outputs": [
        {
          "output_type": "execute_result",
          "data": {
            "text/plain": [
              "(43219, 2)"
            ]
          },
          "metadata": {},
          "execution_count": 140
        }
      ]
    },
    {
      "cell_type": "code",
      "source": [
        "# find duplicate rows\n",
        "\n",
        "df[df.duplicated()].shape"
      ],
      "metadata": {
        "colab": {
          "base_uri": "https://localhost:8080/"
        },
        "id": "UbTGaI5LgEcA",
        "outputId": "6cd220ac-8bdb-490d-dc3f-1e34ca8d5e66"
      },
      "execution_count": null,
      "outputs": [
        {
          "output_type": "execute_result",
          "data": {
            "text/plain": [
              "(546, 2)"
            ]
          },
          "metadata": {},
          "execution_count": 141
        }
      ]
    },
    {
      "cell_type": "code",
      "source": [
        "# drop duplicate rows\n",
        "\n",
        "df.drop(df[df.duplicated()].index, inplace=True)\n",
        "df.shape"
      ],
      "metadata": {
        "colab": {
          "base_uri": "https://localhost:8080/"
        },
        "id": "zG9HdVJdgtAa",
        "outputId": "7c070dae-d245-4c88-efb7-4d452c466a09"
      },
      "execution_count": null,
      "outputs": [
        {
          "output_type": "execute_result",
          "data": {
            "text/plain": [
              "(42673, 2)"
            ]
          },
          "metadata": {},
          "execution_count": 142
        }
      ]
    },
    {
      "cell_type": "code",
      "source": [
        "pd.isnull(df).sum() # find null values"
      ],
      "metadata": {
        "colab": {
          "base_uri": "https://localhost:8080/"
        },
        "id": "YULnXRSFcQCu",
        "outputId": "c160972c-416f-4020-e4ef-207523c5b6f3"
      },
      "execution_count": null,
      "outputs": [
        {
          "output_type": "execute_result",
          "data": {
            "text/plain": [
              "Payloads    1\n",
              "Class       2\n",
              "dtype: int64"
            ]
          },
          "metadata": {},
          "execution_count": 143
        }
      ]
    },
    {
      "cell_type": "code",
      "source": [
        "df = df.dropna() # drop null values"
      ],
      "metadata": {
        "id": "B-FyW6yScTqI"
      },
      "execution_count": null,
      "outputs": []
    },
    {
      "cell_type": "code",
      "source": [
        "pd.isnull(df).sum()"
      ],
      "metadata": {
        "colab": {
          "base_uri": "https://localhost:8080/"
        },
        "id": "-Zrswds7cXU2",
        "outputId": "ad7a7b59-c10b-4b71-fee6-98287cfb7572"
      },
      "execution_count": null,
      "outputs": [
        {
          "output_type": "execute_result",
          "data": {
            "text/plain": [
              "Payloads    0\n",
              "Class       0\n",
              "dtype: int64"
            ]
          },
          "metadata": {},
          "execution_count": 145
        }
      ]
    },
    {
      "cell_type": "code",
      "source": [
        "df['Class'].unique()"
      ],
      "metadata": {
        "colab": {
          "base_uri": "https://localhost:8080/"
        },
        "id": "larpEykmcbLI",
        "outputId": "09634e11-4b52-4269-834d-b6f0739bc91e"
      },
      "execution_count": null,
      "outputs": [
        {
          "output_type": "execute_result",
          "data": {
            "text/plain": [
              "array(['Malicious', 'Benign', '1'], dtype=object)"
            ]
          },
          "metadata": {},
          "execution_count": 146
        }
      ]
    },
    {
      "cell_type": "code",
      "source": [
        "df.drop(df[(df['Class'] == '1')].index, inplace=True)"
      ],
      "metadata": {
        "id": "YD_oWiQrafMf"
      },
      "execution_count": null,
      "outputs": []
    },
    {
      "cell_type": "code",
      "source": [
        "df['Class'].unique()"
      ],
      "metadata": {
        "colab": {
          "base_uri": "https://localhost:8080/"
        },
        "id": "4824inEpcjQH",
        "outputId": "d4e8682f-053b-441f-93e2-b30bb48fe612"
      },
      "execution_count": null,
      "outputs": [
        {
          "output_type": "execute_result",
          "data": {
            "text/plain": [
              "array(['Malicious', 'Benign'], dtype=object)"
            ]
          },
          "metadata": {},
          "execution_count": 148
        }
      ]
    },
    {
      "cell_type": "code",
      "source": [
        "df['Class'].value_counts().plot(kind='pie',autopct='%1.2f%%')\n",
        "plt.show()"
      ],
      "metadata": {
        "colab": {
          "base_uri": "https://localhost:8080/",
          "height": 248
        },
        "id": "bq46yU1VjwHm",
        "outputId": "882334a6-bf79-4fd7-b6e6-1f88817411ed"
      },
      "execution_count": null,
      "outputs": [
        {
          "output_type": "display_data",
          "data": {
            "text/plain": [
              "<Figure size 432x288 with 1 Axes>"
            ],
            "image/png": "[encoded data removed]"
          },
          "metadata": {}
        }
      ]
    },
    {
      "cell_type": "code",
      "source": [
        "label_encoder = preprocessing.LabelEncoder()\n",
        "df['Class']= label_encoder.fit_transform(df['Class']) "
      ],
      "metadata": {
        "id": "yM7eMTZbcpbY"
      },
      "execution_count": null,
      "outputs": []
    },
    {
      "cell_type": "code",
      "source": [
        "df['Class'].unique()"
      ],
      "metadata": {
        "colab": {
          "base_uri": "https://localhost:8080/"
        },
        "id": "g3sV6TXZdODT",
        "outputId": "1cda2b34-6f70-4615-d336-b50dd0c6b2ff"
      },
      "execution_count": null,
      "outputs": [
        {
          "output_type": "execute_result",
          "data": {
            "text/plain": [
              "array([1, 0])"
            ]
          },
          "metadata": {},
          "execution_count": 129
        }
      ]
    },
    {
      "cell_type": "code",
      "source": [
        "X = df[\"Payloads\"]\n",
        "y = df[\"Class\"]"
      ],
      "metadata": {
        "id": "2lKUK9PwsG4_"
      },
      "execution_count": null,
      "outputs": []
    },
    {
      "cell_type": "code",
      "source": [
        "# tokenization on the payloads\n",
        "\n",
        "tokenizer = Tokenizer(filters='', char_level=True, lower=False, oov_token=1)\n",
        "\n",
        "tokenizer.fit_on_texts(X)\n",
        "n_char = len(tokenizer.word_index.keys())\n",
        "\n",
        "total_seq = tokenizer.texts_to_sequences(X)\n",
        "# val_seq = tokenizer.texts_to_sequences(X)\n",
        "\n",
        "print('Before tokenization: ')\n",
        "print(df.iloc[0]['Payloads'])\n",
        "print('\\nAfter tokenization: ')\n",
        "print(total_seq[0])"
      ],
      "metadata": {
        "colab": {
          "base_uri": "https://localhost:8080/"
        },
        "id": "V1Fybo28njY2",
        "outputId": "d2eaa535-cdd4-472d-e51c-079cea56872b"
      },
      "execution_count": null,
      "outputs": [
        {
          "output_type": "stream",
          "name": "stdout",
          "text": [
            "Before tokenization: \n",
            "http://www.nwce.gov.uk/search_process.php?keyword=%22%3e%3cscript%3ealert%28document.cookie%29%3b%3c<br>%2fscript%3e\n",
            "\n",
            "After tokenization: \n",
            "[13, 4, 4, 15, 41, 25, 25, 19, 19, 19, 18, 9, 19, 12, 3, 18, 22, 6, 28, 18, 16, 33, 25, 10, 3, 5, 7, 12, 13, 59, 15, 7, 6, 12, 3, 10, 10, 18, 15, 13, 15, 44, 33, 3, 24, 19, 6, 7, 14, 26, 31, 34, 34, 31, 32, 3, 31, 32, 12, 10, 12, 7, 8, 15, 4, 31, 32, 3, 5, 11, 3, 7, 4, 31, 34, 46, 14, 6, 12, 16, 17, 3, 9, 4, 18, 12, 6, 6, 33, 8, 3, 31, 34, 47, 31, 32, 23, 31, 32, 12, 62, 23, 7, 61, 31, 34, 21, 10, 12, 7, 8, 15, 4, 31, 32, 3]\n"
          ]
        }
      ]
    },
    {
      "cell_type": "code",
      "source": [
        "# padding done to equalize each url length. \n",
        "\n",
        "sequence_length = np.array([len(i) for i in total_seq])\n",
        "sequence_length = np.percentile(sequence_length, 99).astype(int)\n",
        "print(f'Before padding: \\n {total_seq[0]}')\n",
        "\n",
        "total_seq = pad_sequences(total_seq, padding='post', maxlen=sequence_length)\n",
        "# val_seq = pad_sequences(val_seq, padding='post', maxlen=sequence_length)\n",
        "\n",
        "print(f'After padding: \\n {total_seq[0]}')"
      ],
      "metadata": {
        "colab": {
          "base_uri": "https://localhost:8080/"
        },
        "id": "uqjiq9FmrNe4",
        "outputId": "48abc5c3-7c3f-4ebc-cecc-2cfd03b47316"
      },
      "execution_count": null,
      "outputs": [
        {
          "output_type": "stream",
          "name": "stdout",
          "text": [
            "Before padding: \n",
            " [13, 4, 4, 15, 41, 25, 25, 19, 19, 19, 18, 9, 19, 12, 3, 18, 22, 6, 28, 18, 16, 33, 25, 10, 3, 5, 7, 12, 13, 59, 15, 7, 6, 12, 3, 10, 10, 18, 15, 13, 15, 44, 33, 3, 24, 19, 6, 7, 14, 26, 31, 34, 34, 31, 32, 3, 31, 32, 12, 10, 12, 7, 8, 15, 4, 31, 32, 3, 5, 11, 3, 7, 4, 31, 34, 46, 14, 6, 12, 16, 17, 3, 9, 4, 18, 12, 6, 6, 33, 8, 3, 31, 34, 47, 31, 32, 23, 31, 32, 12, 62, 23, 7, 61, 31, 34, 21, 10, 12, 7, 8, 15, 4, 31, 32, 3]\n",
            "After padding: \n",
            " [13  4  4 ...  0  0  0]\n"
          ]
        }
      ]
    },
    {
      "cell_type": "code",
      "source": [],
      "metadata": {
        "id": "Kvvg5GB4s7kq"
      },
      "execution_count": null,
      "outputs": []
    },
    {
      "cell_type": "code",
      "source": [
        "## Creating a dictionary of all the permutations of the characters in the string.\n",
        "## The key for each entry is a tuple containing all possible combinations of characters from the original string.\n",
        "## The value for each entry is an integer that represents its position in the list of features (i.e., feature vector).\n",
        "\n",
        "alphanum = ['a', 'b', 'c', 'd', 'e', 'f', 'g', 'h', 'i', 'j', 'k', 'l', 'm', 'n', 'o', 'p', 'q', 'r', 's', 't', 'u', 'v', 'w', 'x', 'y', 'z','0','1','2','3','4','5','6','7','8','9']\n",
        "permutations = itertools.product(alphanum, repeat=3)\n",
        "featuresDict = {}\n",
        "counter = 0\n",
        "for perm in permutations:\n",
        "    #print(perm)\n",
        "    f=''\n",
        "    for char in perm:\n",
        "        f = f+char;\n",
        "    featuresDict[(''.join(perm))] = counter\n",
        "    counter = counter + 1"
      ],
      "metadata": {
        "id": "-HlTcdzGOWmS"
      },
      "execution_count": null,
      "outputs": []
    },
    {
      "cell_type": "code",
      "source": [
        "# Taking the url and converting it to lowercase, \n",
        "# removing all nonalphanumeric characters (spaces, slashes), then creating a list of tuples.\n",
        "\n",
        "def generate_ngram(url):\n",
        "    s = url.lower()\n",
        "    s = ''.join(e for e in s if e.isalnum())\n",
        "    processedList = []\n",
        "    for tuples in list(ngrams(s,3)): # n = 3, trigram\n",
        "        processedList.append((''.join(tuples)))\n",
        "    return processedList"
      ],
      "metadata": {
        "id": "kDMtrN17OXmY"
      },
      "execution_count": null,
      "outputs": []
    },
    {
      "cell_type": "code",
      "source": [
        "# Generating ngrams from the url and adding them to a dictionary.\n",
        "# Adding these ngrams to the X matrix, which contains all of our features for each row in our dataframe.\n",
        "# Finally, it assigns y as an integer value based on whether or not the link was labeled as malicious or not (0 = benign, 1 = malicious).\n",
        "\n",
        "def preprocess_urls(dataframe, X, y):\n",
        "    #print(dataframe)\n",
        "    for index,row in df.iterrows():\n",
        "        url = row['url'].strip().replace(\"https://\",\"\") # stripping https urls\n",
        "        url = row['url'].strip().replace(\"http://\",\"\") # stripping http urls\n",
        "        url = url.replace(\"http://\",\"\")\n",
        "        url = re.sub(r'\\.[A-Za-z0-9]+/*','',url)\n",
        "        for ngram in generate_ngram(url):\n",
        "            try:\n",
        "                X[index][featuresDict[ngram]] = X[index][featuresDict[ngram]] + 1 # adds ngram\n",
        "            except:\n",
        "                print(ngram,\"doesn't exist\")\n",
        "        y[index] = int(row['label'])\n",
        "    return (X,y)"
      ],
      "metadata": {
        "id": "C-KzMwfvOsM5"
      },
      "execution_count": null,
      "outputs": []
    }
  ]
}