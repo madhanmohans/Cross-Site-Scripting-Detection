{
  "nbformat": 4,
  "nbformat_minor": 0,
  "metadata": {
    "colab": {
      "provenance": [],
      "authorship_tag": "ABX9TyMgU8mBUTIIqn6kp01/gLtl",
      "include_colab_link": true
    },
    "kernelspec": {
      "name": "python3",
      "display_name": "Python 3"
    },
    "language_info": {
      "name": "python"
    }
  },
  "cells": [
    {
      "cell_type": "markdown",
      "metadata": {
        "id": "view-in-github",
        "colab_type": "text"
      },
      "source": [
        "<a href=\"https://colab.research.google.com/github/madhanmohans/Cross-Site-Scripting-Detection/blob/main/XSS_detection_%7C_Phase_2_work.ipynb\" target=\"_parent\"><img src=\"https://colab.research.google.com/assets/colab-badge.svg\" alt=\"Open In Colab\"/></a>"
      ]
    },
    {
      "cell_type": "code",
      "source": [
        "import re\n",
        "import itertools\n",
        "import numpy as np\n",
        "import pandas as pd\n",
        "from nltk.util import ngrams\n",
        "import matplotlib.pyplot as plt\n",
        "from keras.utils import np_utils\n",
        "from sklearn import preprocessing\n",
        "from keras.models import Sequential\n",
        "from keras.utils import pad_sequences\n",
        "from sklearn.model_selection import train_test_split\n",
        "from tensorflow.keras.preprocessing.text import Tokenizer\n",
        "from keras.layers.core import Dense, Dropout, Activation, Lambda\n",
        "# from keras.layers.embeddings import Embedding\n",
        "from tensorflow.keras.layers import Embedding\n",
        "from sklearn.metrics import accuracy_score\n",
        "from keras.layers import LSTM, SimpleRNN, GRU\n",
        "from tensorflow.keras.preprocessing.sequence import pad_sequences"
      ],
      "metadata": {
        "id": "ue7CsMbFBlYz"
      },
      "execution_count": null,
      "outputs": []
    },
    {
      "cell_type": "code",
      "execution_count": null,
      "metadata": {
        "id": "XB5AwWrJBMdd"
      },
      "outputs": [],
      "source": [
        "df = pd.read_csv(\"/content/Payloads.csv\")"
      ]
    },
    {
      "cell_type": "markdown",
      "source": [
        "# Data preprocessing"
      ],
      "metadata": {
        "id": "dA-TqFP3fC_q"
      }
    },
    {
      "cell_type": "code",
      "source": [
        "df.head()"
      ],
      "metadata": {
        "colab": {
          "base_uri": "https://localhost:8080/",
          "height": 206
        },
        "id": "vPG-c5P1DuOQ",
        "outputId": "5a775bd1-c35a-40db-a88b-a406a456bd8a"
      },
      "execution_count": null,
      "outputs": [
        {
          "output_type": "execute_result",
          "data": {
            "text/plain": [
              "                                            Payloads      Class\n",
              "0  http://www.nwce.gov.uk/search_process.php?keyw...  Malicious\n",
              "1  http://www.manchester.gov.uk/site/scripts/goog...  Malicious\n",
              "2  http://www.ldsmissions.com/us/index.php?action...  Malicious\n",
              "3  http://education.powys.gov.uk/english/adult_ed...  Malicious\n",
              "4  http://www.northwarks.gov.uk/site/scripts/goog...  Malicious"
            ],
            "text/html": [
              "\n",
              "  <div id=\"df-da86d27b-4991-4a65-9a2f-0d583517d462\">\n",
              "    <div class=\"colab-df-container\">\n",
              "      <div>\n",
              "<style scoped>\n",
              "    .dataframe tbody tr th:only-of-type {\n",
              "        vertical-align: middle;\n",
              "    }\n",
              "\n",
              "    .dataframe tbody tr th {\n",
              "        vertical-align: top;\n",
              "    }\n",
              "\n",
              "    .dataframe thead th {\n",
              "        text-align: right;\n",
              "    }\n",
              "</style>\n",
              "<table border=\"1\" class=\"dataframe\">\n",
              "  <thead>\n",
              "    <tr style=\"text-align: right;\">\n",
              "      <th></th>\n",
              "      <th>Payloads</th>\n",
              "      <th>Class</th>\n",
              "    </tr>\n",
              "  </thead>\n",
              "  <tbody>\n",
              "    <tr>\n",
              "      <th>0</th>\n",
              "      <td>http://www.nwce.gov.uk/search_process.php?keyw...</td>\n",
              "      <td>Malicious</td>\n",
              "    </tr>\n",
              "    <tr>\n",
              "      <th>1</th>\n",
              "      <td>http://www.manchester.gov.uk/site/scripts/goog...</td>\n",
              "      <td>Malicious</td>\n",
              "    </tr>\n",
              "    <tr>\n",
              "      <th>2</th>\n",
              "      <td>http://www.ldsmissions.com/us/index.php?action...</td>\n",
              "      <td>Malicious</td>\n",
              "    </tr>\n",
              "    <tr>\n",
              "      <th>3</th>\n",
              "      <td>http://education.powys.gov.uk/english/adult_ed...</td>\n",
              "      <td>Malicious</td>\n",
              "    </tr>\n",
              "    <tr>\n",
              "      <th>4</th>\n",
              "      <td>http://www.northwarks.gov.uk/site/scripts/goog...</td>\n",
              "      <td>Malicious</td>\n",
              "    </tr>\n",
              "  </tbody>\n",
              "</table>\n",
              "</div>\n",
              "      <button class=\"colab-df-convert\" onclick=\"convertToInteractive('df-da86d27b-4991-4a65-9a2f-0d583517d462')\"\n",
              "              title=\"Convert this dataframe to an interactive table.\"\n",
              "              style=\"display:none;\">\n",
              "        \n",
              "  <svg xmlns=\"http://www.w3.org/2000/svg\" height=\"24px\"viewBox=\"0 0 24 24\"\n",
              "       width=\"24px\">\n",
              "    <path d=\"M0 0h24v24H0V0z\" fill=\"none\"/>\n",
              "    <path d=\"M18.56 5.44l.94 2.06.94-2.06 2.06-.94-2.06-.94-.94-2.06-.94 2.06-2.06.94zm-11 1L8.5 8.5l.94-2.06 2.06-.94-2.06-.94L8.5 2.5l-.94 2.06-2.06.94zm10 10l.94 2.06.94-2.06 2.06-.94-2.06-.94-.94-2.06-.94 2.06-2.06.94z\"/><path d=\"M17.41 7.96l-1.37-1.37c-.4-.4-.92-.59-1.43-.59-.52 0-1.04.2-1.43.59L10.3 9.45l-7.72 7.72c-.78.78-.78 2.05 0 2.83L4 21.41c.39.39.9.59 1.41.59.51 0 1.02-.2 1.41-.59l7.78-7.78 2.81-2.81c.8-.78.8-2.07 0-2.86zM5.41 20L4 18.59l7.72-7.72 1.47 1.35L5.41 20z\"/>\n",
              "  </svg>\n",
              "      </button>\n",
              "      \n",
              "  <style>\n",
              "    .colab-df-container {\n",
              "      display:flex;\n",
              "      flex-wrap:wrap;\n",
              "      gap: 12px;\n",
              "    }\n",
              "\n",
              "    .colab-df-convert {\n",
              "      background-color: #E8F0FE;\n",
              "      border: none;\n",
              "      border-radius: 50%;\n",
              "      cursor: pointer;\n",
              "      display: none;\n",
              "      fill: #1967D2;\n",
              "      height: 32px;\n",
              "      padding: 0 0 0 0;\n",
              "      width: 32px;\n",
              "    }\n",
              "\n",
              "    .colab-df-convert:hover {\n",
              "      background-color: #E2EBFA;\n",
              "      box-shadow: 0px 1px 2px rgba(60, 64, 67, 0.3), 0px 1px 3px 1px rgba(60, 64, 67, 0.15);\n",
              "      fill: #174EA6;\n",
              "    }\n",
              "\n",
              "    [theme=dark] .colab-df-convert {\n",
              "      background-color: #3B4455;\n",
              "      fill: #D2E3FC;\n",
              "    }\n",
              "\n",
              "    [theme=dark] .colab-df-convert:hover {\n",
              "      background-color: #434B5C;\n",
              "      box-shadow: 0px 1px 3px 1px rgba(0, 0, 0, 0.15);\n",
              "      filter: drop-shadow(0px 1px 2px rgba(0, 0, 0, 0.3));\n",
              "      fill: #FFFFFF;\n",
              "    }\n",
              "  </style>\n",
              "\n",
              "      <script>\n",
              "        const buttonEl =\n",
              "          document.querySelector('#df-da86d27b-4991-4a65-9a2f-0d583517d462 button.colab-df-convert');\n",
              "        buttonEl.style.display =\n",
              "          google.colab.kernel.accessAllowed ? 'block' : 'none';\n",
              "\n",
              "        async function convertToInteractive(key) {\n",
              "          const element = document.querySelector('#df-da86d27b-4991-4a65-9a2f-0d583517d462');\n",
              "          const dataTable =\n",
              "            await google.colab.kernel.invokeFunction('convertToInteractive',\n",
              "                                                     [key], {});\n",
              "          if (!dataTable) return;\n",
              "\n",
              "          const docLinkHtml = 'Like what you see? Visit the ' +\n",
              "            '<a target=\"_blank\" href=https://colab.research.google.com/notebooks/data_table.ipynb>data table notebook</a>'\n",
              "            + ' to learn more about interactive tables.';\n",
              "          element.innerHTML = '';\n",
              "          dataTable['output_type'] = 'display_data';\n",
              "          await google.colab.output.renderOutput(dataTable, element);\n",
              "          const docLink = document.createElement('div');\n",
              "          docLink.innerHTML = docLinkHtml;\n",
              "          element.appendChild(docLink);\n",
              "        }\n",
              "      </script>\n",
              "    </div>\n",
              "  </div>\n",
              "  "
            ]
          },
          "metadata": {},
          "execution_count": 4
        }
      ]
    },
    {
      "cell_type": "code",
      "source": [
        "df.info()"
      ],
      "metadata": {
        "colab": {
          "base_uri": "https://localhost:8080/"
        },
        "id": "_hPCA37WkZTb",
        "outputId": "dce257ad-d823-4a34-d73e-bc97e0ada646"
      },
      "execution_count": null,
      "outputs": [
        {
          "output_type": "stream",
          "name": "stdout",
          "text": [
            "<class 'pandas.core.frame.DataFrame'>\n",
            "RangeIndex: 43219 entries, 0 to 43218\n",
            "Data columns (total 2 columns):\n",
            " #   Column    Non-Null Count  Dtype \n",
            "---  ------    --------------  ----- \n",
            " 0   Payloads  43218 non-null  object\n",
            " 1   Class     43217 non-null  object\n",
            "dtypes: object(2)\n",
            "memory usage: 675.4+ KB\n"
          ]
        }
      ]
    },
    {
      "cell_type": "code",
      "source": [
        "df.shape"
      ],
      "metadata": {
        "colab": {
          "base_uri": "https://localhost:8080/"
        },
        "id": "VEA3tYqde9Gk",
        "outputId": "112f1a40-2cb6-4fe6-e662-fe4ffbdcd639"
      },
      "execution_count": null,
      "outputs": [
        {
          "output_type": "execute_result",
          "data": {
            "text/plain": [
              "(43219, 2)"
            ]
          },
          "metadata": {},
          "execution_count": 6
        }
      ]
    },
    {
      "cell_type": "code",
      "source": [
        "# find duplicate rows\n",
        "\n",
        "df[df.duplicated()].shape"
      ],
      "metadata": {
        "colab": {
          "base_uri": "https://localhost:8080/"
        },
        "id": "UbTGaI5LgEcA",
        "outputId": "75963124-c5c9-4eee-873e-e0efe4bfe4e9"
      },
      "execution_count": null,
      "outputs": [
        {
          "output_type": "execute_result",
          "data": {
            "text/plain": [
              "(546, 2)"
            ]
          },
          "metadata": {},
          "execution_count": 7
        }
      ]
    },
    {
      "cell_type": "code",
      "source": [
        "# drop duplicate rows\n",
        "\n",
        "df.drop(df[df.duplicated()].index, inplace=True)\n",
        "df.shape"
      ],
      "metadata": {
        "colab": {
          "base_uri": "https://localhost:8080/"
        },
        "id": "zG9HdVJdgtAa",
        "outputId": "236170a7-de6d-4b78-e737-b3e39c461960"
      },
      "execution_count": null,
      "outputs": [
        {
          "output_type": "execute_result",
          "data": {
            "text/plain": [
              "(42673, 2)"
            ]
          },
          "metadata": {},
          "execution_count": 8
        }
      ]
    },
    {
      "cell_type": "code",
      "source": [
        "pd.isnull(df).sum() # find null values"
      ],
      "metadata": {
        "colab": {
          "base_uri": "https://localhost:8080/"
        },
        "id": "YULnXRSFcQCu",
        "outputId": "5b68afed-12a3-45d6-c050-9bec15b3c520"
      },
      "execution_count": null,
      "outputs": [
        {
          "output_type": "execute_result",
          "data": {
            "text/plain": [
              "Payloads    1\n",
              "Class       2\n",
              "dtype: int64"
            ]
          },
          "metadata": {},
          "execution_count": 9
        }
      ]
    },
    {
      "cell_type": "code",
      "source": [
        "df = df.dropna() # drop null values"
      ],
      "metadata": {
        "id": "B-FyW6yScTqI"
      },
      "execution_count": null,
      "outputs": []
    },
    {
      "cell_type": "code",
      "source": [
        "pd.isnull(df).sum()"
      ],
      "metadata": {
        "colab": {
          "base_uri": "https://localhost:8080/"
        },
        "id": "-Zrswds7cXU2",
        "outputId": "c23de11c-a902-4b95-a721-c23972ee0289"
      },
      "execution_count": null,
      "outputs": [
        {
          "output_type": "execute_result",
          "data": {
            "text/plain": [
              "Payloads    0\n",
              "Class       0\n",
              "dtype: int64"
            ]
          },
          "metadata": {},
          "execution_count": 11
        }
      ]
    },
    {
      "cell_type": "code",
      "source": [
        "df['Class'].unique()"
      ],
      "metadata": {
        "colab": {
          "base_uri": "https://localhost:8080/"
        },
        "id": "larpEykmcbLI",
        "outputId": "c32dde6f-b694-4b09-e455-5515d3f9a993"
      },
      "execution_count": null,
      "outputs": [
        {
          "output_type": "execute_result",
          "data": {
            "text/plain": [
              "array(['Malicious', 'Benign', '1'], dtype=object)"
            ]
          },
          "metadata": {},
          "execution_count": 12
        }
      ]
    },
    {
      "cell_type": "code",
      "source": [
        "df.drop(df[(df['Class'] == '1')].index, inplace=True)"
      ],
      "metadata": {
        "id": "YD_oWiQrafMf",
        "colab": {
          "base_uri": "https://localhost:8080/"
        },
        "outputId": "97a0937c-5619-40fe-eca7-624533774393"
      },
      "execution_count": null,
      "outputs": [
        {
          "output_type": "stream",
          "name": "stderr",
          "text": [
            "<ipython-input-13-9ecfd2b4fafc>:1: SettingWithCopyWarning: \n",
            "A value is trying to be set on a copy of a slice from a DataFrame\n",
            "\n",
            "See the caveats in the documentation: https://pandas.pydata.org/pandas-docs/stable/user_guide/indexing.html#returning-a-view-versus-a-copy\n",
            "  df.drop(df[(df['Class'] == '1')].index, inplace=True)\n"
          ]
        }
      ]
    },
    {
      "cell_type": "code",
      "source": [
        "df['Class'].unique()"
      ],
      "metadata": {
        "colab": {
          "base_uri": "https://localhost:8080/"
        },
        "id": "4824inEpcjQH",
        "outputId": "c3ee1f1b-0ecf-4e7f-99fa-6d8d98e8da2a"
      },
      "execution_count": null,
      "outputs": [
        {
          "output_type": "execute_result",
          "data": {
            "text/plain": [
              "array(['Malicious', 'Benign'], dtype=object)"
            ]
          },
          "metadata": {},
          "execution_count": 14
        }
      ]
    },
    {
      "cell_type": "code",
      "source": [
        "df['Class'].value_counts().plot(kind='pie',autopct='%1.2f%%')\n",
        "plt.show()"
      ],
      "metadata": {
        "colab": {
          "base_uri": "https://localhost:8080/",
          "height": 248
        },
        "id": "bq46yU1VjwHm",
        "outputId": "93182e5d-426f-4310-c623-76c7baa39bec"
      },
      "execution_count": null,
      "outputs": [
        {
          "output_type": "display_data",
          "data": {
            "text/plain": [
              "<Figure size 432x288 with 1 Axes>"
            ],
            "image/png": "[encoded data removed]"
          },
          "metadata": {}
        }
      ]
    },
    {
      "cell_type": "code",
      "source": [
        "label_encoder = preprocessing.LabelEncoder()\n",
        "df['Class']= label_encoder.fit_transform(df['Class']) "
      ],
      "metadata": {
        "id": "yM7eMTZbcpbY"
      },
      "execution_count": null,
      "outputs": []
    },
    {
      "cell_type": "code",
      "source": [
        "df['Class'].unique()"
      ],
      "metadata": {
        "colab": {
          "base_uri": "https://localhost:8080/"
        },
        "id": "g3sV6TXZdODT",
        "outputId": "a7625106-5062-416b-cada-9ba45a5830f6"
      },
      "execution_count": null,
      "outputs": [
        {
          "output_type": "execute_result",
          "data": {
            "text/plain": [
              "array([1, 0])"
            ]
          },
          "metadata": {},
          "execution_count": 17
        }
      ]
    },
    {
      "cell_type": "code",
      "source": [
        "X = df[\"Payloads\"]\n",
        "y = df[\"Class\"]"
      ],
      "metadata": {
        "id": "2lKUK9PwsG4_"
      },
      "execution_count": null,
      "outputs": []
    },
    {
      "cell_type": "markdown",
      "source": [
        "# Model Building"
      ],
      "metadata": {
        "id": "ut7zcC6dJRXr"
      }
    },
    {
      "cell_type": "code",
      "source": [
        "train, test = train_test_split(df, test_size = 0.3)"
      ],
      "metadata": {
        "id": "pnMsui_EN6BN"
      },
      "execution_count": null,
      "outputs": []
    },
    {
      "cell_type": "code",
      "source": [
        "max_features = 20000\n",
        "maxlen = 150\n",
        "nb_classes = 2"
      ],
      "metadata": {
        "id": "oEv2xY0UHps7"
      },
      "execution_count": null,
      "outputs": []
    },
    {
      "cell_type": "code",
      "source": [
        "# vectorize the text samples into a 2D integer tensor\n",
        "tokenizer = Tokenizer(num_words=max_features)\n",
        "tokenizer.fit_on_texts(train['Payloads'])\n",
        "\n",
        "sequences_train = tokenizer.texts_to_sequences(train['Payloads'])\n",
        "sequences_test = tokenizer.texts_to_sequences(test['Payloads'])"
      ],
      "metadata": {
        "id": "Cmb0bGvGHrrr"
      },
      "execution_count": null,
      "outputs": []
    },
    {
      "cell_type": "code",
      "source": [
        "y_train = np.array(train['Class'])\n",
        "y_test = np.array(test['Class'])"
      ],
      "metadata": {
        "id": "p7LvfJnsK31j"
      },
      "execution_count": null,
      "outputs": []
    },
    {
      "cell_type": "code",
      "source": [
        "print('Pad sequences (samples x time)')\n",
        "X_train = pad_sequences(sequences_train, maxlen=maxlen)\n",
        "X_test = pad_sequences(sequences_test, maxlen=maxlen)\n",
        " \n",
        "Y_train = np_utils.to_categorical(y_train, nb_classes)\n",
        "Y_test = np_utils.to_categorical(y_test, nb_classes)\n",
        "\n",
        "print('X_train shape:', X_train.shape)\n",
        "print('X_test shape:', X_test.shape)\n",
        "print('y_train shape:', y_train.shape)\n",
        "print('y_test shape:', y_test.shape)"
      ],
      "metadata": {
        "colab": {
          "base_uri": "https://localhost:8080/"
        },
        "id": "kWe7MX8cHtu7",
        "outputId": "e6b0c581-e485-4f7c-dc9a-76a085b48f56"
      },
      "execution_count": null,
      "outputs": [
        {
          "output_type": "stream",
          "name": "stdout",
          "text": [
            "Pad sequences (samples x time)\n",
            "X_train shape: (29868, 150)\n",
            "X_test shape: (12801, 150)\n",
            "y_train shape: (29868,)\n",
            "y_test shape: (12801,)\n"
          ]
        }
      ]
    },
    {
      "cell_type": "code",
      "source": [
        "from keras.callbacks import ModelCheckpoint, EarlyStopping, ReduceLROnPlateau\n",
        "from keras.optimizers import RMSprop\n",
        "\n",
        "print('Build model...')\n",
        "model = Sequential()\n",
        "model.add(Embedding(max_features, 128))\n",
        "model.add(Dense(64, activation='relu'))\n",
        "model.add(LSTM(256, return_sequences=True, activation='tanh'))\n",
        "model.add(Dropout(0.5))\n",
        "model.add(LSTM(256, activation='tanh'))\n",
        "model.add(Dropout(0.5))\n",
        "model.add(Dense(nb_classes, activation='sigmoid'))\n",
        "model.compile(loss='binary_crossentropy', optimizer=RMSprop(learning_rate=0.001), metrics=['accuracy'])\n",
        "\n",
        "print('Train...')\n",
        "callbacks = [EarlyStopping(patience=3), ReduceLROnPlateau(patience=2)]\n",
        "history = model.fit(X_train, Y_train, batch_size=128, epochs=20, validation_data=(X_test, Y_test), callbacks=callbacks)\n",
        "\n",
        "train_score, train_accuracy = model.evaluate(X_train, Y_train, batch_size=128)\n",
        "test_score, test_accuracy = model.evaluate(X_test, Y_test, batch_size=128)"
      ],
      "metadata": {
        "id": "eNN_lF2SfZ2D",
        "colab": {
          "base_uri": "https://localhost:8080/"
        },
        "outputId": "85294fe5-8c13-497a-8327-9c0efec0e3ab"
      },
      "execution_count": null,
      "outputs": [
        {
          "output_type": "stream",
          "name": "stdout",
          "text": [
            "Build model...\n",
            "Train...\n",
            "Epoch 1/20\n",
            "234/234 [==============================] - 837s 4s/step - loss: 0.0631 - accuracy: 0.9773 - val_loss: 0.0131 - val_accuracy: 0.9948 - lr: 0.0010\n",
            "Epoch 2/20\n",
            "234/234 [==============================] - 865s 4s/step - loss: 0.0151 - accuracy: 0.9963 - val_loss: 0.0111 - val_accuracy: 0.9971 - lr: 0.0010\n",
            "Epoch 3/20\n",
            "234/234 [==============================] - 866s 4s/step - loss: 0.0061 - accuracy: 0.9980 - val_loss: 0.0099 - val_accuracy: 0.9969 - lr: 0.0010\n",
            "Epoch 4/20\n",
            "234/234 [==============================] - 871s 4s/step - loss: 0.0058 - accuracy: 0.9985 - val_loss: 0.0091 - val_accuracy: 0.9973 - lr: 0.0010\n",
            "Epoch 5/20\n",
            "234/234 [==============================] - 872s 4s/step - loss: 0.0047 - accuracy: 0.9989 - val_loss: 0.0126 - val_accuracy: 0.9973 - lr: 0.0010\n",
            "Epoch 6/20\n",
            "234/234 [==============================] - 875s 4s/step - loss: 0.0043 - accuracy: 0.9989 - val_loss: 0.0106 - val_accuracy: 0.9975 - lr: 0.0010\n",
            "Epoch 7/20\n",
            "234/234 [==============================] - 879s 4s/step - loss: 0.0023 - accuracy: 0.9996 - val_loss: 0.0115 - val_accuracy: 0.9973 - lr: 1.0000e-04\n",
            "234/234 [==============================] - 236s 1s/step - loss: 0.0017 - accuracy: 0.9997\n",
            "101/101 [==============================] - 100s 992ms/step - loss: 0.0115 - accuracy: 0.9973\n"
          ]
        }
      ]
    },
    {
      "cell_type": "code",
      "source": [
        "print('Train accuracy:', round(train_accuracy*100, 4), \"%\")\n",
        "print('Test accuracy:', round(test_accuracy*100, 4), \"%\")"
      ],
      "metadata": {
        "id": "lpVVElp7v3cU",
        "colab": {
          "base_uri": "https://localhost:8080/"
        },
        "outputId": "51260d0e-90ec-4c4c-f9fc-1f2c0e1a7691"
      },
      "execution_count": null,
      "outputs": [
        {
          "output_type": "stream",
          "name": "stdout",
          "text": [
            "Train accuracy: 99.9665 %\n",
            "Test accuracy: 99.7344 %\n"
          ]
        }
      ]
    },
    {
      "cell_type": "code",
      "source": [
        "from keras.models import save_model\n",
        "\n",
        "save_model(model, 'LSTM-v1.h5')"
      ],
      "metadata": {
        "id": "Hm0xk2k5xxrC"
      },
      "execution_count": null,
      "outputs": []
    },
    {
      "cell_type": "code",
      "source": [
        "print('Build model...')\n",
        "model = Sequential()\n",
        "model.add(Embedding(max_features, 128))\n",
        "\n",
        "model.add(LSTM(256, return_sequences=True, input_dim=3, input_shape =(50,), activation= 'softmax')) \n",
        "model.add(Dense(nb_classes))\n",
        "model.add(Dropout(0.2))\n",
        "model.compile(loss='binary_crossentropy',\n",
        "              optimizer='adam',\n",
        "              metrics=['accuracy'])\n",
        "\n",
        "print('Train...')\n",
        "\n",
        "model.fit(X_train, Y_train, batch_size=batch_size, validation_data=(X_test, Y_test))\n",
        "\n",
        "trainScore, trainAccuracy = model.evaluate(X_train, Y_train, batch_size=batch_size)\n",
        "testScore, testAccuracy = model.evaluate(X_test, Y_test, batch_size=batch_size)\n",
        "\n",
        "\n",
        "print('Train score:', trainScore)\n",
        "print('Train accuracy:', trainAccuracy)\n",
        "\n",
        "print('Test score:', testScore)\n",
        "print('Test accuracy:', testAccuracy)"
      ],
      "metadata": {
        "id": "2J0_XgzWHvxe"
      },
      "execution_count": null,
      "outputs": []
    }
  ]
}